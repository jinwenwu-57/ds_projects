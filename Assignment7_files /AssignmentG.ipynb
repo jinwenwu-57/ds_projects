{
 "cells": [
  {
   "cell_type": "raw",
   "id": "2d08f12d",
   "metadata": {},
   "source": [
    "---\n",
    "title: \"Assignment G\"\n",
    "subtitle: \"Data aggregation\"\n",
    "format: \n",
    "  html:\n",
    "    toc: true\n",
    "    toc-title: Contents\n",
    "    toc-depth: 4\n",
    "    code-fold: show\n",
    "    self-contained: true\n",
    "jupyter: python3\n",
    "---"
   ]
  },
  {
   "cell_type": "markdown",
   "id": "6efe6ec7",
   "metadata": {},
   "source": [
    "## Instructions {-}\n",
    "\n",
    "1. You may talk to a friend, discuss the questions and potential directions for solving them. However, you need to write your own solutions and code separately, and not as a group activity. \n",
    "\n",
    "2. Write your code in the *Code* cells and your answer in the *Markdown* cells of the Jupyter notebook. Ensure that the solution is written neatly enough to understand and grade.\n",
    "\n",
    "3. Use [Quarto](https://quarto.org/docs/output-formats/html-basics.html) to print the *.ipynb* file as HTML. You will need to open the command prompt, navigate to the directory containing the file, and use the command: `quarto render filename.ipynb --to html`. Submit the HTML file.\n",
    "\n",
    "4. The assignment is worth 100 points, and is due on **4th December 2023 at 11:59 pm**. No extension is possible on this assignment due to tight grading deadlines. \n",
    "\n",
    "5. You are **not allowed to use a `for` loop in this assignment**.\n",
    "\n",
    "6. There is a **bonus** question worth 5 points.\n",
    "\n",
    "7. There are hints provided in a couple of questions. For each of those questions, if you can propose a solution that is shorter than the one proposed in the hint, you will get 10 **ultra-bonus** points. Email your solution to *krish@northwestern.edu* to claim the ultra-bonus points. A solution may be shorter in terms of number of computations. If it is shorter with respect to any other criterion, then the number of ultra-bonus points awarded will be a subjective decision.\n",
    "\n",
    "8.  The maximum possible score in the assigment is 100 + 5 (bonus question) + 20 (two ultra-bonus questions) = 125 out of 100. There is no partial credit for bonus / ultra-bonus questions.\n",
    "\n",
    "9. If you are updating a dataset (imputing missing values / creating new variables), then use the updated dataset in a subsequent question.\n",
    "\n",
    "10. **Five points are properly formatting the assignment**. The breakdown is as follows:\n",
    "- Must be an HTML file rendered using Quarto (2 pts).\n",
    "- There aren’t excessively long outputs of extraneous information (e.g. no printouts of entire data frames without good reason, there aren’t long printouts of which iteration a loop is on, there aren’t long sections of commented-out code, etc.) (1 pt)\n",
    "- Final answers of each question are written in Markdown cells (1 pt).\n",
    "- There is no piece of unnecessary / redundant code, and no unnecessary / redundant text (1 pt)"
   ]
  },
  {
   "cell_type": "markdown",
   "id": "93d691ac",
   "metadata": {},
   "source": [
    "## Spotify"
   ]
  },
  {
   "cell_type": "markdown",
   "id": "76ef6e03",
   "metadata": {},
   "source": [
    "Read the spotify dataset from the file *spotify_data.csv*. \n",
    "\n",
    "What percentage of all the unique tracks are contributed by the top 3 artists of each genre, where the top artists are based on `artist_popularity`, and the unique tracks are based on unique values of `track_name`? If there are multiple values of `artist_popularity` for an `artist_name`-`genres` combination, then consider the maximum value of `artist_popularity`.\n",
    "\n",
    "The following approach will **not** work: If you group the data by `genres`, and filter the top 3 rows by `artist_popularity`, then you may not get 3 unique artists, as one artist can have multiple tracks.\n",
    "\n",
    "*(10 points)*\n",
    "\n",
    "**Hint:**\n",
    "\n",
    "1. Group the data by `genres`, and `artist_name`. Find the number of unique tracks (by `track_name`) and maximum `artist_popularity` for each group. \n",
    "\n",
    "2. The dataset obtained in (1) is at artist-genre level, i.e., each row corresponds to a unique `artist_name`-`genres` combination. Group that dataset by `genres`, and filter the top 3 rows of each group based on `artist_popularity`. \n",
    "\n",
    "3. Sum up the number of unique tracks of the dataset obtained in (2) and divide it by the total number of unique tracks in the original dataset.\n",
    "\n",
    "\n",
    "**Note:** The functions `nunique()`, and `agg()` may be useful. "
   ]
  },
  {
   "cell_type": "code",
   "execution_count": 1,
   "id": "451a37fa",
   "metadata": {},
   "outputs": [
    {
     "data": {
      "text/html": [
       "<div>\n",
       "<style scoped>\n",
       "    .dataframe tbody tr th:only-of-type {\n",
       "        vertical-align: middle;\n",
       "    }\n",
       "\n",
       "    .dataframe tbody tr th {\n",
       "        vertical-align: top;\n",
       "    }\n",
       "\n",
       "    .dataframe thead th {\n",
       "        text-align: right;\n",
       "    }\n",
       "</style>\n",
       "<table border=\"1\" class=\"dataframe\">\n",
       "  <thead>\n",
       "    <tr style=\"text-align: right;\">\n",
       "      <th></th>\n",
       "      <th>genres</th>\n",
       "      <th>artist_name</th>\n",
       "      <th>track_name</th>\n",
       "      <th>artist_popularity</th>\n",
       "    </tr>\n",
       "  </thead>\n",
       "  <tbody>\n",
       "    <tr>\n",
       "      <th>0</th>\n",
       "      <td>country</td>\n",
       "      <td>Alan Jackson</td>\n",
       "      <td>61</td>\n",
       "      <td>76</td>\n",
       "    </tr>\n",
       "    <tr>\n",
       "      <th>1</th>\n",
       "      <td>country</td>\n",
       "      <td>Blake Shelton</td>\n",
       "      <td>16</td>\n",
       "      <td>77</td>\n",
       "    </tr>\n",
       "    <tr>\n",
       "      <th>2</th>\n",
       "      <td>country</td>\n",
       "      <td>Brad Paisley</td>\n",
       "      <td>16</td>\n",
       "      <td>71</td>\n",
       "    </tr>\n",
       "    <tr>\n",
       "      <th>3</th>\n",
       "      <td>country</td>\n",
       "      <td>Brett Young</td>\n",
       "      <td>5</td>\n",
       "      <td>73</td>\n",
       "    </tr>\n",
       "    <tr>\n",
       "      <th>4</th>\n",
       "      <td>country</td>\n",
       "      <td>Casey Donahew</td>\n",
       "      <td>3</td>\n",
       "      <td>60</td>\n",
       "    </tr>\n",
       "    <tr>\n",
       "      <th>...</th>\n",
       "      <td>...</td>\n",
       "      <td>...</td>\n",
       "      <td>...</td>\n",
       "      <td>...</td>\n",
       "    </tr>\n",
       "    <tr>\n",
       "      <th>11941</th>\n",
       "      <td>rock</td>\n",
       "      <td>Óscar Chávez</td>\n",
       "      <td>33</td>\n",
       "      <td>51</td>\n",
       "    </tr>\n",
       "    <tr>\n",
       "      <th>11942</th>\n",
       "      <td>rock</td>\n",
       "      <td>İkiye On Kala</td>\n",
       "      <td>8</td>\n",
       "      <td>61</td>\n",
       "    </tr>\n",
       "    <tr>\n",
       "      <th>11943</th>\n",
       "      <td>rock</td>\n",
       "      <td>ДДТ</td>\n",
       "      <td>52</td>\n",
       "      <td>52</td>\n",
       "    </tr>\n",
       "    <tr>\n",
       "      <th>11944</th>\n",
       "      <td>rock</td>\n",
       "      <td>Дайте танк (!)</td>\n",
       "      <td>22</td>\n",
       "      <td>58</td>\n",
       "    </tr>\n",
       "    <tr>\n",
       "      <th>11945</th>\n",
       "      <td>rock</td>\n",
       "      <td>オレンジスパイニクラブ</td>\n",
       "      <td>1</td>\n",
       "      <td>57</td>\n",
       "    </tr>\n",
       "  </tbody>\n",
       "</table>\n",
       "<p>11946 rows × 4 columns</p>\n",
       "</div>"
      ],
      "text/plain": [
       "        genres     artist_name  track_name  artist_popularity\n",
       "0      country    Alan Jackson          61                 76\n",
       "1      country   Blake Shelton          16                 77\n",
       "2      country    Brad Paisley          16                 71\n",
       "3      country     Brett Young           5                 73\n",
       "4      country   Casey Donahew           3                 60\n",
       "...        ...             ...         ...                ...\n",
       "11941     rock    Óscar Chávez          33                 51\n",
       "11942     rock   İkiye On Kala           8                 61\n",
       "11943     rock             ДДТ          52                 52\n",
       "11944     rock  Дайте танк (!)          22                 58\n",
       "11945     rock     オレンジスパイニクラブ           1                 57\n",
       "\n",
       "[11946 rows x 4 columns]"
      ]
     },
     "execution_count": 1,
     "metadata": {},
     "output_type": "execute_result"
    }
   ],
   "source": [
    "import pandas as pd\n",
    "\n",
    "data = pd.read_csv('spotify_data.csv')\n",
    "# Grouping the data by genres and artist_name to calculate the number of unique tracks and maximum artist popularity\n",
    "grouped_data = data.groupby(['genres', 'artist_name']).agg({\n",
    "    'track_name': 'nunique',  # count the unique tracks\n",
    "    'artist_popularity': 'max'  # find the maximum artist popularity\n",
    "}).reset_index()\n",
    "\n",
    "grouped_data"
   ]
  },
  {
   "cell_type": "code",
   "execution_count": 2,
   "id": "e41f6e76",
   "metadata": {},
   "outputs": [
    {
     "data": {
      "text/plain": [
       "4.789824758518002"
      ]
     },
     "execution_count": 2,
     "metadata": {},
     "output_type": "execute_result"
    }
   ],
   "source": [
    "# Now, we need to group this data by genre and filter the top 3 rows based on artist popularity\n",
    "top_artists_per_genre = grouped_data.groupby('genres').apply(\n",
    "    lambda x: x.nlargest(3, 'artist_popularity')\n",
    ").reset_index(drop=True)\n",
    "\n",
    "# Sum of unique tracks contributed by top 3 artists in each genre\n",
    "unique_tracks_top_artists = top_artists_per_genre['track_name'].sum()\n",
    "\n",
    "# Total number of unique tracks in the original dataset\n",
    "total_unique_tracks = data['track_name'].nunique()\n",
    "\n",
    "# Calculating the percentage\n",
    "percentage_contribution = (unique_tracks_top_artists / total_unique_tracks) * 100\n",
    "percentage_contribution\n"
   ]
  },
  {
   "cell_type": "markdown",
   "id": "cbfdc3b8",
   "metadata": {},
   "source": [
    "The percentage of all the unique tracks contributed by the top 3 artists of each genre, where the top artists are based on artist popularity and considering the maximum value of artist popularity for each artist-genre combination, is approximately **4.79%.**"
   ]
  },
  {
   "cell_type": "markdown",
   "id": "4393cced-a26a-47a9-a23d-cba029eeaf27",
   "metadata": {},
   "source": [
    "## Canadian Fish Biodiversity\n",
    "\n",
    "Read data from the file *Canadian_Fish_Biodiversity.csv* on Canvas. Each row records a unique fishing event from a 2013 sample of fish populations in Ontario, Canada. To analyze the results of these fishing surveys, we need to understand the dynamics of projects, sites, and geographic locations."
   ]
  },
  {
   "cell_type": "code",
   "execution_count": 3,
   "id": "52d175dc",
   "metadata": {},
   "outputs": [
    {
     "data": {
      "text/html": [
       "<div>\n",
       "<style scoped>\n",
       "    .dataframe tbody tr th:only-of-type {\n",
       "        vertical-align: middle;\n",
       "    }\n",
       "\n",
       "    .dataframe tbody tr th {\n",
       "        vertical-align: top;\n",
       "    }\n",
       "\n",
       "    .dataframe thead th {\n",
       "        text-align: right;\n",
       "    }\n",
       "</style>\n",
       "<table border=\"1\" class=\"dataframe\">\n",
       "  <thead>\n",
       "    <tr style=\"text-align: right;\">\n",
       "      <th></th>\n",
       "      <th>SITEID</th>\n",
       "      <th>Species</th>\n",
       "      <th>Number Captured</th>\n",
       "      <th>Minimum (mm)</th>\n",
       "      <th>Maximum (mm)</th>\n",
       "      <th>Project Name</th>\n",
       "      <th>Day</th>\n",
       "      <th>Month</th>\n",
       "      <th>Year</th>\n",
       "      <th>Waterbody Name</th>\n",
       "      <th>WaterbodyType</th>\n",
       "      <th>Start Latitude</th>\n",
       "      <th>Start Longitude</th>\n",
       "      <th>Air Temperature (C)</th>\n",
       "      <th>Water Temperature (C)</th>\n",
       "      <th>Turbidity (ntu)</th>\n",
       "    </tr>\n",
       "  </thead>\n",
       "  <tbody>\n",
       "    <tr>\n",
       "      <th>0</th>\n",
       "      <td>5599</td>\n",
       "      <td>Notropis hudsonius</td>\n",
       "      <td>3.0</td>\n",
       "      <td>79.0</td>\n",
       "      <td>81.0</td>\n",
       "      <td>2013 Northern Madtom Survey of Lake St. Clair</td>\n",
       "      <td>22</td>\n",
       "      <td>4</td>\n",
       "      <td>2013</td>\n",
       "      <td>Lake St. Clair</td>\n",
       "      <td>Lake</td>\n",
       "      <td>42.46966</td>\n",
       "      <td>-82.43121</td>\n",
       "      <td>12.9</td>\n",
       "      <td>10.91</td>\n",
       "      <td>77.3</td>\n",
       "    </tr>\n",
       "    <tr>\n",
       "      <th>1</th>\n",
       "      <td>5599</td>\n",
       "      <td>Proterorhinus semilunaris</td>\n",
       "      <td>1.0</td>\n",
       "      <td>65.0</td>\n",
       "      <td>65.0</td>\n",
       "      <td>2013 Northern Madtom Survey of Lake St. Clair</td>\n",
       "      <td>22</td>\n",
       "      <td>4</td>\n",
       "      <td>2013</td>\n",
       "      <td>Lake St. Clair</td>\n",
       "      <td>Lake</td>\n",
       "      <td>42.46966</td>\n",
       "      <td>-82.43121</td>\n",
       "      <td>12.9</td>\n",
       "      <td>10.91</td>\n",
       "      <td>77.3</td>\n",
       "    </tr>\n",
       "    <tr>\n",
       "      <th>2</th>\n",
       "      <td>5599</td>\n",
       "      <td>Notropis hudsonius</td>\n",
       "      <td>1.0</td>\n",
       "      <td>75.0</td>\n",
       "      <td>85.0</td>\n",
       "      <td>2013 Northern Madtom Survey of Lake St. Clair</td>\n",
       "      <td>22</td>\n",
       "      <td>4</td>\n",
       "      <td>2013</td>\n",
       "      <td>Lake St. Clair</td>\n",
       "      <td>Lake</td>\n",
       "      <td>42.46966</td>\n",
       "      <td>-82.43121</td>\n",
       "      <td>12.9</td>\n",
       "      <td>10.91</td>\n",
       "      <td>77.3</td>\n",
       "    </tr>\n",
       "    <tr>\n",
       "      <th>3</th>\n",
       "      <td>5599</td>\n",
       "      <td>Percopsis omiscomaycus</td>\n",
       "      <td>3.0</td>\n",
       "      <td>94.0</td>\n",
       "      <td>105.0</td>\n",
       "      <td>2013 Northern Madtom Survey of Lake St. Clair</td>\n",
       "      <td>22</td>\n",
       "      <td>4</td>\n",
       "      <td>2013</td>\n",
       "      <td>Lake St. Clair</td>\n",
       "      <td>Lake</td>\n",
       "      <td>42.46966</td>\n",
       "      <td>-82.43121</td>\n",
       "      <td>12.9</td>\n",
       "      <td>10.91</td>\n",
       "      <td>77.3</td>\n",
       "    </tr>\n",
       "    <tr>\n",
       "      <th>4</th>\n",
       "      <td>5599</td>\n",
       "      <td>Notropis hudsonius</td>\n",
       "      <td>2.0</td>\n",
       "      <td>71.0</td>\n",
       "      <td>102.0</td>\n",
       "      <td>2013 Northern Madtom Survey of Lake St. Clair</td>\n",
       "      <td>22</td>\n",
       "      <td>4</td>\n",
       "      <td>2013</td>\n",
       "      <td>Lake St. Clair</td>\n",
       "      <td>Lake</td>\n",
       "      <td>42.46966</td>\n",
       "      <td>-82.43121</td>\n",
       "      <td>12.9</td>\n",
       "      <td>10.91</td>\n",
       "      <td>77.3</td>\n",
       "    </tr>\n",
       "  </tbody>\n",
       "</table>\n",
       "</div>"
      ],
      "text/plain": [
       "   SITEID                    Species  Number Captured  Minimum (mm)  \\\n",
       "0    5599         Notropis hudsonius              3.0          79.0   \n",
       "1    5599  Proterorhinus semilunaris              1.0          65.0   \n",
       "2    5599         Notropis hudsonius              1.0          75.0   \n",
       "3    5599     Percopsis omiscomaycus              3.0          94.0   \n",
       "4    5599         Notropis hudsonius              2.0          71.0   \n",
       "\n",
       "   Maximum (mm)                                   Project Name  Day  Month  \\\n",
       "0          81.0  2013 Northern Madtom Survey of Lake St. Clair   22      4   \n",
       "1          65.0  2013 Northern Madtom Survey of Lake St. Clair   22      4   \n",
       "2          85.0  2013 Northern Madtom Survey of Lake St. Clair   22      4   \n",
       "3         105.0  2013 Northern Madtom Survey of Lake St. Clair   22      4   \n",
       "4         102.0  2013 Northern Madtom Survey of Lake St. Clair   22      4   \n",
       "\n",
       "   Year  Waterbody Name WaterbodyType  Start Latitude  Start Longitude  \\\n",
       "0  2013  Lake St. Clair          Lake        42.46966        -82.43121   \n",
       "1  2013  Lake St. Clair          Lake        42.46966        -82.43121   \n",
       "2  2013  Lake St. Clair          Lake        42.46966        -82.43121   \n",
       "3  2013  Lake St. Clair          Lake        42.46966        -82.43121   \n",
       "4  2013  Lake St. Clair          Lake        42.46966        -82.43121   \n",
       "\n",
       "   Air Temperature (C)  Water Temperature (C)  Turbidity (ntu)  \n",
       "0                 12.9                  10.91             77.3  \n",
       "1                 12.9                  10.91             77.3  \n",
       "2                 12.9                  10.91             77.3  \n",
       "3                 12.9                  10.91             77.3  \n",
       "4                 12.9                  10.91             77.3  "
      ]
     },
     "execution_count": 3,
     "metadata": {},
     "output_type": "execute_result"
    }
   ],
   "source": [
    "fish_data = pd.read_csv('Canadian_Fish_Biodiversity.csv')\n",
    "fish_data.head()"
   ]
  },
  {
   "cell_type": "markdown",
   "id": "2270390b-eb12-458d-a5fd-68a0b13be9bc",
   "metadata": {},
   "source": [
    "### Top 3 projects\n",
    "Each site (identified by the column `SITEID`) represents a time and place at which fishing events occurred. Sites are grouped into broader projects (identified by the column `Project Name`). We want to understand the scope of these projects.\n",
    "\n",
    "Using `groupby()`, find the top three projects by number of unique sites.\n",
    "\n",
    "*(4 points)*"
   ]
  },
  {
   "cell_type": "code",
   "execution_count": 4,
   "id": "a273b41a",
   "metadata": {},
   "outputs": [
    {
     "data": {
      "text/plain": [
       "Project Name\n",
       "2013 GLAP Survey of Detroit River           220\n",
       "2013 Crown Marsh Survey                     146\n",
       "2013 Spotted Gar Critical Habitat Survey    131\n",
       "Name: SITEID, dtype: int64"
      ]
     },
     "execution_count": 4,
     "metadata": {},
     "output_type": "execute_result"
    }
   ],
   "source": [
    "top_projects = fish_data.groupby('Project Name')['SITEID'].nunique().sort_values(ascending=False).head(3)\n",
    "top_projects"
   ]
  },
  {
   "cell_type": "markdown",
   "id": "1648d7ef",
   "metadata": {},
   "source": [
    "The top three projects by the number of unique sites are:\n",
    "\n",
    "**2013 GLAP Survey of Detroit River with 220 unique sites.**\n",
    "\n",
    "**2013 Crown Marsh Survey with 146 unique sites.**\n",
    "\n",
    "**2013 Spotted Gar Critical Habitat Survey with 131 unique sites.**\n"
   ]
  },
  {
   "cell_type": "markdown",
   "id": "696df760",
   "metadata": {},
   "source": [
    "### Missing value imputation with `groupby()`"
   ]
  },
  {
   "cell_type": "markdown",
   "id": "553611e8-04b7-4247-bd97-f7f0401d572f",
   "metadata": {},
   "source": [
    "#### Number of missing values\n",
    "How many values are missing for the air temperature column (`Air Temperature (C)`)? \n",
    "\n",
    "*(1 point)*"
   ]
  },
  {
   "cell_type": "code",
   "execution_count": 5,
   "id": "ec153962",
   "metadata": {},
   "outputs": [
    {
     "data": {
      "text/plain": [
       "808"
      ]
     },
     "execution_count": 5,
     "metadata": {},
     "output_type": "execute_result"
    }
   ],
   "source": [
    "# Counting missing values in the Air Temperature (C) column\n",
    "missing_air_temp = fish_data['Air Temperature (C)'].isnull().sum()\n",
    "missing_air_temp"
   ]
  },
  {
   "cell_type": "markdown",
   "id": "9919b054",
   "metadata": {},
   "source": [
    "There are 808 missing values in the Air Temperature (C) column"
   ]
  },
  {
   "cell_type": "markdown",
   "id": "008679b5",
   "metadata": {},
   "source": [
    "#### Missing value imputation: attempt 1\n",
    "Using `groupby()`, impute the missing values of air temperature with the median air temperature of the corresponding water body (`Waterbody Name`) and `Month`. \n",
    "\n",
    "*(4 points)*"
   ]
  },
  {
   "cell_type": "code",
   "execution_count": 6,
   "id": "7956d8cc",
   "metadata": {},
   "outputs": [
    {
     "name": "stderr",
     "output_type": "stream",
     "text": [
      "/Library/Frameworks/Python.framework/Versions/3.10/lib/python3.10/site-packages/numpy/lib/nanfunctions.py:1215: RuntimeWarning: Mean of empty slice\n",
      "  return np.nanmean(a, axis, out=out, keepdims=keepdims)\n",
      "/Library/Frameworks/Python.framework/Versions/3.10/lib/python3.10/site-packages/numpy/lib/nanfunctions.py:1215: RuntimeWarning: Mean of empty slice\n",
      "  return np.nanmean(a, axis, out=out, keepdims=keepdims)\n",
      "/Library/Frameworks/Python.framework/Versions/3.10/lib/python3.10/site-packages/numpy/lib/nanfunctions.py:1215: RuntimeWarning: Mean of empty slice\n",
      "  return np.nanmean(a, axis, out=out, keepdims=keepdims)\n",
      "/Library/Frameworks/Python.framework/Versions/3.10/lib/python3.10/site-packages/numpy/lib/nanfunctions.py:1215: RuntimeWarning: Mean of empty slice\n",
      "  return np.nanmean(a, axis, out=out, keepdims=keepdims)\n",
      "/Library/Frameworks/Python.framework/Versions/3.10/lib/python3.10/site-packages/numpy/lib/nanfunctions.py:1215: RuntimeWarning: Mean of empty slice\n",
      "  return np.nanmean(a, axis, out=out, keepdims=keepdims)\n",
      "/Library/Frameworks/Python.framework/Versions/3.10/lib/python3.10/site-packages/numpy/lib/nanfunctions.py:1215: RuntimeWarning: Mean of empty slice\n",
      "  return np.nanmean(a, axis, out=out, keepdims=keepdims)\n",
      "/Library/Frameworks/Python.framework/Versions/3.10/lib/python3.10/site-packages/numpy/lib/nanfunctions.py:1215: RuntimeWarning: Mean of empty slice\n",
      "  return np.nanmean(a, axis, out=out, keepdims=keepdims)\n",
      "/Library/Frameworks/Python.framework/Versions/3.10/lib/python3.10/site-packages/numpy/lib/nanfunctions.py:1215: RuntimeWarning: Mean of empty slice\n",
      "  return np.nanmean(a, axis, out=out, keepdims=keepdims)\n",
      "/Library/Frameworks/Python.framework/Versions/3.10/lib/python3.10/site-packages/numpy/lib/nanfunctions.py:1215: RuntimeWarning: Mean of empty slice\n",
      "  return np.nanmean(a, axis, out=out, keepdims=keepdims)\n",
      "/Library/Frameworks/Python.framework/Versions/3.10/lib/python3.10/site-packages/numpy/lib/nanfunctions.py:1215: RuntimeWarning: Mean of empty slice\n",
      "  return np.nanmean(a, axis, out=out, keepdims=keepdims)\n",
      "/Library/Frameworks/Python.framework/Versions/3.10/lib/python3.10/site-packages/numpy/lib/nanfunctions.py:1215: RuntimeWarning: Mean of empty slice\n",
      "  return np.nanmean(a, axis, out=out, keepdims=keepdims)\n",
      "/Library/Frameworks/Python.framework/Versions/3.10/lib/python3.10/site-packages/numpy/lib/nanfunctions.py:1215: RuntimeWarning: Mean of empty slice\n",
      "  return np.nanmean(a, axis, out=out, keepdims=keepdims)\n",
      "/Library/Frameworks/Python.framework/Versions/3.10/lib/python3.10/site-packages/numpy/lib/nanfunctions.py:1215: RuntimeWarning: Mean of empty slice\n",
      "  return np.nanmean(a, axis, out=out, keepdims=keepdims)\n",
      "/Library/Frameworks/Python.framework/Versions/3.10/lib/python3.10/site-packages/numpy/lib/nanfunctions.py:1215: RuntimeWarning: Mean of empty slice\n",
      "  return np.nanmean(a, axis, out=out, keepdims=keepdims)\n",
      "/Library/Frameworks/Python.framework/Versions/3.10/lib/python3.10/site-packages/numpy/lib/nanfunctions.py:1215: RuntimeWarning: Mean of empty slice\n",
      "  return np.nanmean(a, axis, out=out, keepdims=keepdims)\n",
      "/Library/Frameworks/Python.framework/Versions/3.10/lib/python3.10/site-packages/numpy/lib/nanfunctions.py:1215: RuntimeWarning: Mean of empty slice\n",
      "  return np.nanmean(a, axis, out=out, keepdims=keepdims)\n",
      "/Library/Frameworks/Python.framework/Versions/3.10/lib/python3.10/site-packages/numpy/lib/nanfunctions.py:1215: RuntimeWarning: Mean of empty slice\n",
      "  return np.nanmean(a, axis, out=out, keepdims=keepdims)\n",
      "/Library/Frameworks/Python.framework/Versions/3.10/lib/python3.10/site-packages/numpy/lib/nanfunctions.py:1215: RuntimeWarning: Mean of empty slice\n",
      "  return np.nanmean(a, axis, out=out, keepdims=keepdims)\n",
      "/Library/Frameworks/Python.framework/Versions/3.10/lib/python3.10/site-packages/numpy/lib/nanfunctions.py:1215: RuntimeWarning: Mean of empty slice\n",
      "  return np.nanmean(a, axis, out=out, keepdims=keepdims)\n",
      "/Library/Frameworks/Python.framework/Versions/3.10/lib/python3.10/site-packages/numpy/lib/nanfunctions.py:1215: RuntimeWarning: Mean of empty slice\n",
      "  return np.nanmean(a, axis, out=out, keepdims=keepdims)\n",
      "/Library/Frameworks/Python.framework/Versions/3.10/lib/python3.10/site-packages/numpy/lib/nanfunctions.py:1215: RuntimeWarning: Mean of empty slice\n",
      "  return np.nanmean(a, axis, out=out, keepdims=keepdims)\n",
      "/Library/Frameworks/Python.framework/Versions/3.10/lib/python3.10/site-packages/numpy/lib/nanfunctions.py:1215: RuntimeWarning: Mean of empty slice\n",
      "  return np.nanmean(a, axis, out=out, keepdims=keepdims)\n"
     ]
    },
    {
     "data": {
      "text/plain": [
       "113"
      ]
     },
     "execution_count": 6,
     "metadata": {},
     "output_type": "execute_result"
    }
   ],
   "source": [
    "# Calculating the median air temperature for each combination of Waterbody Name and Month\n",
    "median_air_temp_by_waterbody_month = fish_data.groupby(['Waterbody Name', 'Month'])['Air Temperature (C)'].median()\n",
    "\n",
    "# Imputing missing air temperatures using the calculated medians\n",
    "fish_data_imputed = fish_data.copy()\n",
    "fish_data_imputed['Air Temperature (C)'] = fish_data_imputed.groupby(['Waterbody Name', 'Month'])['Air Temperature (C)'].apply(lambda x: x.fillna(x.median()))\n",
    "\n",
    "# Checking how many missing values still remain after this imputation\n",
    "remaining_missing_values_after_attempt_1 = fish_data_imputed['Air Temperature (C)'].isna().sum()\n",
    "remaining_missing_values_after_attempt_1\n"
   ]
  },
  {
   "cell_type": "markdown",
   "id": "cc08cd8b",
   "metadata": {},
   "source": [
    "#### Missing values remaining after attempt 1\n",
    "How many missing values still remain for the air temperature column after the imputation in the previous question? \n",
    "\n",
    "*(1 point)*"
   ]
  },
  {
   "cell_type": "markdown",
   "id": "5e9e1cc8",
   "metadata": {},
   "source": [
    "113 missing values still remain for the air temperature column after the imputation in the previous question? \n",
    "\n"
   ]
  },
  {
   "cell_type": "markdown",
   "id": "d12ae9df",
   "metadata": {},
   "source": [
    "#### Missing value imputation: attempt 2\n",
    "We will try to impute the remaining missing values for air temperature. Try to impute the remaining missing values of air temperature with the median air temperature of the corresponding project (`Project Name`) and `Month`. \n",
    "\n",
    "*(4 points)*"
   ]
  },
  {
   "cell_type": "code",
   "execution_count": 7,
   "id": "fdf1d1f0",
   "metadata": {},
   "outputs": [
    {
     "name": "stderr",
     "output_type": "stream",
     "text": [
      "/Library/Frameworks/Python.framework/Versions/3.10/lib/python3.10/site-packages/numpy/lib/nanfunctions.py:1215: RuntimeWarning: Mean of empty slice\n",
      "  return np.nanmean(a, axis, out=out, keepdims=keepdims)\n",
      "/Library/Frameworks/Python.framework/Versions/3.10/lib/python3.10/site-packages/numpy/lib/nanfunctions.py:1215: RuntimeWarning: Mean of empty slice\n",
      "  return np.nanmean(a, axis, out=out, keepdims=keepdims)\n",
      "/Library/Frameworks/Python.framework/Versions/3.10/lib/python3.10/site-packages/numpy/lib/nanfunctions.py:1215: RuntimeWarning: Mean of empty slice\n",
      "  return np.nanmean(a, axis, out=out, keepdims=keepdims)\n",
      "/Library/Frameworks/Python.framework/Versions/3.10/lib/python3.10/site-packages/numpy/lib/nanfunctions.py:1215: RuntimeWarning: Mean of empty slice\n",
      "  return np.nanmean(a, axis, out=out, keepdims=keepdims)\n",
      "/Library/Frameworks/Python.framework/Versions/3.10/lib/python3.10/site-packages/numpy/lib/nanfunctions.py:1215: RuntimeWarning: Mean of empty slice\n",
      "  return np.nanmean(a, axis, out=out, keepdims=keepdims)\n",
      "/Library/Frameworks/Python.framework/Versions/3.10/lib/python3.10/site-packages/numpy/lib/nanfunctions.py:1215: RuntimeWarning: Mean of empty slice\n",
      "  return np.nanmean(a, axis, out=out, keepdims=keepdims)\n"
     ]
    },
    {
     "data": {
      "text/plain": [
       "62"
      ]
     },
     "execution_count": 7,
     "metadata": {},
     "output_type": "execute_result"
    }
   ],
   "source": [
    "# Calculating the median air temperature for each combination of Project Name and Month\n",
    "median_air_temp_by_project_month = fish_data_imputed.groupby(['Project Name', 'Month'])['Air Temperature (C)'].median()\n",
    "\n",
    "# Imputing the remaining missing air temperatures using the calculated medians\n",
    "fish_data_imputed['Air Temperature (C)'] = fish_data_imputed.groupby(['Project Name', 'Month'])['Air Temperature (C)'].apply(lambda x: x.fillna(x.median()))\n",
    "\n",
    "# Checking how many missing values still remain after this second imputation\n",
    "remaining_missing_values_after_attempt_2 = fish_data_imputed['Air Temperature (C)'].isna().sum()\n",
    "remaining_missing_values_after_attempt_2\n"
   ]
  },
  {
   "cell_type": "markdown",
   "id": "7d484677",
   "metadata": {},
   "source": [
    "#### Missing values remaining after attempt 2\n",
    "How many missing values still remain for the air temperature column after the imputation in the previous question? \n",
    "\n",
    "*(1 point)*"
   ]
  },
  {
   "cell_type": "markdown",
   "id": "bddfa68c",
   "metadata": {},
   "source": [
    "62 missing values still remain for the air temperature column after the imputation in the previous question。 \n"
   ]
  },
  {
   "cell_type": "markdown",
   "id": "9f3e4e89",
   "metadata": {},
   "source": [
    "#### Air-water temperatures correlation\n",
    "Find the correlation between air temperature and water temperature. \n",
    "\n",
    "*(1 point)*"
   ]
  },
  {
   "cell_type": "code",
   "execution_count": 8,
   "id": "2bbedfe2",
   "metadata": {},
   "outputs": [
    {
     "data": {
      "text/plain": [
       "0.768184572633517"
      ]
     },
     "execution_count": 8,
     "metadata": {},
     "output_type": "execute_result"
    }
   ],
   "source": [
    "# Calculating the correlation between air temperature and water temperature\n",
    "correlation_air_water_temp = fish_data_imputed['Air Temperature (C)'].corr(fish_data_imputed['Water Temperature (C)'])\n",
    "correlation_air_water_temp"
   ]
  },
  {
   "cell_type": "markdown",
   "id": "67de7f7e",
   "metadata": {},
   "source": [
    "#### Missing values remaning after hypothetical attempt 3\n",
    "As you found a high correlation between air temperature and water temperature, you can use water temperature to estimate the air temperature *(using the trendline, like you did in assignment 5)*. Assuming you already did that, how many missing values will still remain for the air temperature column? \n",
    "\n",
    "**Note:** Do not impute the missing values using the trendline, just assume you already did that.\n",
    "\n",
    "*(3 points)*"
   ]
  },
  {
   "cell_type": "markdown",
   "id": "3a33aaee",
   "metadata": {},
   "source": [
    "Given the high correlation between air temperature and water temperature, if we were to use water temperature to estimate the air temperature (as per the hypothetical attempt 3), we can assume that all remaining missing values for air temperature would be imputed （with the finding in attempt 2). Thus, **no missing values** would remain for the air temperature column after this hypothetical attempt."
   ]
  },
  {
   "cell_type": "markdown",
   "id": "7184163c",
   "metadata": {},
   "source": [
    "#### Visualizing missing value imputation\n",
    "Make a scatterplot of air temperature against water temperature. Highlight the points for which the air temperature was imputed in attempts 1 and 2 with a different color. \n",
    "\n",
    "*(8 points)*"
   ]
  },
  {
   "cell_type": "code",
   "execution_count": 11,
   "id": "4ee28e4d",
   "metadata": {},
   "outputs": [
    {
     "name": "stdout",
     "output_type": "stream",
     "text": [
      "Collecting seaborn\n",
      "  Downloading seaborn-0.13.0-py3-none-any.whl (294 kB)\n",
      "\u001b[K     |████████████████████████████████| 294 kB 1.3 MB/s eta 0:00:01\n",
      "\u001b[?25hRequirement already satisfied: numpy!=1.24.0,>=1.20 in /Library/Frameworks/Python.framework/Versions/3.10/lib/python3.10/site-packages (from seaborn) (1.26.2)\n",
      "Requirement already satisfied: pandas>=1.2 in /Users/jinwens/Library/Python/3.10/lib/python/site-packages (from seaborn) (1.3.5)\n",
      "Requirement already satisfied: matplotlib!=3.6.1,>=3.3 in /Users/jinwens/Library/Python/3.10/lib/python/site-packages (from seaborn) (3.5.1)\n",
      "Requirement already satisfied: packaging>=20.0 in /Users/jinwens/Library/Python/3.10/lib/python/site-packages (from matplotlib!=3.6.1,>=3.3->seaborn) (21.3)\n",
      "Requirement already satisfied: fonttools>=4.22.0 in /Users/jinwens/Library/Python/3.10/lib/python/site-packages (from matplotlib!=3.6.1,>=3.3->seaborn) (4.28.5)\n",
      "Requirement already satisfied: pyparsing>=2.2.1 in /Users/jinwens/Library/Python/3.10/lib/python/site-packages (from matplotlib!=3.6.1,>=3.3->seaborn) (3.0.6)\n",
      "Requirement already satisfied: cycler>=0.10 in /Users/jinwens/Library/Python/3.10/lib/python/site-packages (from matplotlib!=3.6.1,>=3.3->seaborn) (0.11.0)\n",
      "Requirement already satisfied: python-dateutil>=2.7 in /Users/jinwens/Library/Python/3.10/lib/python/site-packages (from matplotlib!=3.6.1,>=3.3->seaborn) (2.8.2)\n",
      "Requirement already satisfied: kiwisolver>=1.0.1 in /Users/jinwens/Library/Python/3.10/lib/python/site-packages (from matplotlib!=3.6.1,>=3.3->seaborn) (1.3.2)\n",
      "Requirement already satisfied: pillow>=6.2.0 in /Users/jinwens/Library/Python/3.10/lib/python/site-packages (from matplotlib!=3.6.1,>=3.3->seaborn) (9.0.0)\n",
      "Requirement already satisfied: pytz>=2017.3 in /Users/jinwens/Library/Python/3.10/lib/python/site-packages (from pandas>=1.2->seaborn) (2021.3)\n",
      "Requirement already satisfied: six>=1.5 in /Users/jinwens/Library/Python/3.10/lib/python/site-packages (from python-dateutil>=2.7->matplotlib!=3.6.1,>=3.3->seaborn) (1.16.0)\n",
      "Installing collected packages: seaborn\n",
      "Successfully installed seaborn-0.13.0\n",
      "\u001b[33mWARNING: You are using pip version 21.2.4; however, version 23.3.1 is available.\n",
      "You should consider upgrading via the '/usr/local/bin/python3 -m pip install --upgrade pip' command.\u001b[0m\n",
      "Note: you may need to restart the kernel to use updated packages.\n"
     ]
    }
   ],
   "source": [
    "pip install seaborn"
   ]
  },
  {
   "cell_type": "code",
   "execution_count": 14,
   "id": "da362ae1",
   "metadata": {},
   "outputs": [
    {
     "data": {
      "image/png": "[encoded data removed]",
      "text/plain": [
       "<Figure size 864x576 with 1 Axes>"
      ]
     },
     "metadata": {
      "needs_background": "light"
     },
     "output_type": "display_data"
    }
   ],
   "source": [
    "import matplotlib.pyplot as plt\n",
    "import seaborn as sns\n",
    "\n",
    "# Creating a copy of the dataset to mark the imputed values\n",
    "fish_data_visual = fish_data_imputed.copy()\n",
    "\n",
    "# Marking the imputed values for visualization\n",
    "fish_data_visual['Imputed'] = fish_data['Air Temperature (C)'].isna()\n",
    "\n",
    "# Scatterplot of air temperature against water temperature\n",
    "plt.figure(figsize=(12, 8))\n",
    "sns.scatterplot(data=fish_data_visual, x='Water Temperature (C)', y='Air Temperature (C)', hue='Imputed', palette=['blue', 'red'])\n",
    "plt.title('Scatterplot of Air Temperature vs. Water Temperature\\nRed points indicate imputed Air Temperatures')\n",
    "plt.xlabel('Water Temperature (C)')\n",
    "plt.ylabel('Air Temperature (C)')\n",
    "plt.legend(title='Air Temp Imputed')\n",
    "plt.grid(True)\n",
    "plt.show()\n"
   ]
  },
  {
   "cell_type": "markdown",
   "id": "a5f6b09a-1a1f-4ac9-a405-a3834e0c9d54",
   "metadata": {},
   "source": [
    "### Living conditions\n",
    "This section begins to investigate the living conditions of fish at different locations and time periods. Continue using the updated dataset with the imputed missing values in attempts 1 and 2 of the previous section."
   ]
  },
  {
   "cell_type": "markdown",
   "id": "b9a8a8d2-e9ea-4df4-a92f-ed53da3d126d",
   "metadata": {},
   "source": [
    "#### Air-water temperatures: Summary statistics\n",
    "Use a single `groupby` statement to view the minimum, mean, standard deviation, and maximum air temperature and water temperature for each project during the month of **August** (use the `Month` column). \n",
    "\n",
    "*(5 points)*"
   ]
  },
  {
   "cell_type": "code",
   "execution_count": 31,
   "id": "ff4e9895",
   "metadata": {},
   "outputs": [
    {
     "data": {
      "text/html": [
       "<div>\n",
       "<style scoped>\n",
       "    .dataframe tbody tr th:only-of-type {\n",
       "        vertical-align: middle;\n",
       "    }\n",
       "\n",
       "    .dataframe tbody tr th {\n",
       "        vertical-align: top;\n",
       "    }\n",
       "\n",
       "    .dataframe thead th {\n",
       "        text-align: right;\n",
       "    }\n",
       "</style>\n",
       "<table border=\"1\" class=\"dataframe\">\n",
       "  <thead>\n",
       "    <tr style=\"text-align: right;\">\n",
       "      <th></th>\n",
       "      <th>Project Name</th>\n",
       "      <th>Min_Air_Temp</th>\n",
       "      <th>Mean_Air_Temp</th>\n",
       "      <th>Std_Air_Temp</th>\n",
       "      <th>Max_Air_Temp</th>\n",
       "      <th>Min_Water_Temp</th>\n",
       "      <th>Mean_Water_Temp</th>\n",
       "      <th>Std_Water_Temp</th>\n",
       "      <th>Max_Water_Temp</th>\n",
       "    </tr>\n",
       "  </thead>\n",
       "  <tbody>\n",
       "    <tr>\n",
       "      <th>0</th>\n",
       "      <td>2013 Bridle Shiner Critical Habitat Survey</td>\n",
       "      <td>20.7</td>\n",
       "      <td>24.609091</td>\n",
       "      <td>2.588098</td>\n",
       "      <td>26.5</td>\n",
       "      <td>20.630</td>\n",
       "      <td>22.052182</td>\n",
       "      <td>0.503887</td>\n",
       "      <td>22.44</td>\n",
       "    </tr>\n",
       "    <tr>\n",
       "      <th>1</th>\n",
       "      <td>2013 Crown Marsh Survey</td>\n",
       "      <td>16.4</td>\n",
       "      <td>21.667872</td>\n",
       "      <td>2.057387</td>\n",
       "      <td>26.2</td>\n",
       "      <td>17.430</td>\n",
       "      <td>22.007084</td>\n",
       "      <td>1.240151</td>\n",
       "      <td>23.24</td>\n",
       "    </tr>\n",
       "    <tr>\n",
       "      <th>2</th>\n",
       "      <td>2013 GLAP Survey of Detroit River</td>\n",
       "      <td>21.1</td>\n",
       "      <td>24.406220</td>\n",
       "      <td>2.652812</td>\n",
       "      <td>28.3</td>\n",
       "      <td>21.646</td>\n",
       "      <td>22.028226</td>\n",
       "      <td>0.392402</td>\n",
       "      <td>23.11</td>\n",
       "    </tr>\n",
       "    <tr>\n",
       "      <th>3</th>\n",
       "      <td>2013 Grass Pickerel Niagara Drains</td>\n",
       "      <td>20.8</td>\n",
       "      <td>25.246154</td>\n",
       "      <td>2.498615</td>\n",
       "      <td>28.2</td>\n",
       "      <td>17.150</td>\n",
       "      <td>20.105641</td>\n",
       "      <td>2.426792</td>\n",
       "      <td>23.96</td>\n",
       "    </tr>\n",
       "    <tr>\n",
       "      <th>4</th>\n",
       "      <td>2013 Grass Pickerel Twenty Mile Creek</td>\n",
       "      <td>22.5</td>\n",
       "      <td>25.340107</td>\n",
       "      <td>2.395997</td>\n",
       "      <td>29.4</td>\n",
       "      <td>18.990</td>\n",
       "      <td>22.380238</td>\n",
       "      <td>2.533686</td>\n",
       "      <td>26.87</td>\n",
       "    </tr>\n",
       "    <tr>\n",
       "      <th>5</th>\n",
       "      <td>2013 Lake Chubsucker Critical Habitat Survey</td>\n",
       "      <td>14.3</td>\n",
       "      <td>20.814612</td>\n",
       "      <td>3.968119</td>\n",
       "      <td>32.6</td>\n",
       "      <td>19.300</td>\n",
       "      <td>21.671746</td>\n",
       "      <td>1.619878</td>\n",
       "      <td>25.13</td>\n",
       "    </tr>\n",
       "    <tr>\n",
       "      <th>6</th>\n",
       "      <td>2013 Mussel Fish Community Assessment</td>\n",
       "      <td>23.0</td>\n",
       "      <td>24.535887</td>\n",
       "      <td>1.203286</td>\n",
       "      <td>26.1</td>\n",
       "      <td>21.800</td>\n",
       "      <td>23.155645</td>\n",
       "      <td>1.156345</td>\n",
       "      <td>24.60</td>\n",
       "    </tr>\n",
       "    <tr>\n",
       "      <th>7</th>\n",
       "      <td>2013 Pugnose Minnow Lake St Clair Drains</td>\n",
       "      <td>22.2</td>\n",
       "      <td>25.303061</td>\n",
       "      <td>1.961982</td>\n",
       "      <td>29.0</td>\n",
       "      <td>18.970</td>\n",
       "      <td>20.713163</td>\n",
       "      <td>1.676571</td>\n",
       "      <td>24.22</td>\n",
       "    </tr>\n",
       "    <tr>\n",
       "      <th>8</th>\n",
       "      <td>2013 Species at Risk Assessment</td>\n",
       "      <td>23.3</td>\n",
       "      <td>24.456000</td>\n",
       "      <td>0.809362</td>\n",
       "      <td>25.0</td>\n",
       "      <td>21.960</td>\n",
       "      <td>22.075600</td>\n",
       "      <td>0.080936</td>\n",
       "      <td>22.13</td>\n",
       "    </tr>\n",
       "    <tr>\n",
       "      <th>9</th>\n",
       "      <td>2013 Spotted Gar Critical Habitat Survey</td>\n",
       "      <td>18.6</td>\n",
       "      <td>22.706481</td>\n",
       "      <td>2.590503</td>\n",
       "      <td>27.7</td>\n",
       "      <td>18.639</td>\n",
       "      <td>21.349769</td>\n",
       "      <td>1.978877</td>\n",
       "      <td>24.30</td>\n",
       "    </tr>\n",
       "  </tbody>\n",
       "</table>\n",
       "</div>"
      ],
      "text/plain": [
       "                                   Project Name  Min_Air_Temp  Mean_Air_Temp  \\\n",
       "0    2013 Bridle Shiner Critical Habitat Survey          20.7      24.609091   \n",
       "1                       2013 Crown Marsh Survey          16.4      21.667872   \n",
       "2             2013 GLAP Survey of Detroit River          21.1      24.406220   \n",
       "3            2013 Grass Pickerel Niagara Drains          20.8      25.246154   \n",
       "4         2013 Grass Pickerel Twenty Mile Creek          22.5      25.340107   \n",
       "5  2013 Lake Chubsucker Critical Habitat Survey          14.3      20.814612   \n",
       "6         2013 Mussel Fish Community Assessment          23.0      24.535887   \n",
       "7      2013 Pugnose Minnow Lake St Clair Drains          22.2      25.303061   \n",
       "8               2013 Species at Risk Assessment          23.3      24.456000   \n",
       "9      2013 Spotted Gar Critical Habitat Survey          18.6      22.706481   \n",
       "\n",
       "   Std_Air_Temp  Max_Air_Temp  Min_Water_Temp  Mean_Water_Temp  \\\n",
       "0      2.588098          26.5          20.630        22.052182   \n",
       "1      2.057387          26.2          17.430        22.007084   \n",
       "2      2.652812          28.3          21.646        22.028226   \n",
       "3      2.498615          28.2          17.150        20.105641   \n",
       "4      2.395997          29.4          18.990        22.380238   \n",
       "5      3.968119          32.6          19.300        21.671746   \n",
       "6      1.203286          26.1          21.800        23.155645   \n",
       "7      1.961982          29.0          18.970        20.713163   \n",
       "8      0.809362          25.0          21.960        22.075600   \n",
       "9      2.590503          27.7          18.639        21.349769   \n",
       "\n",
       "   Std_Water_Temp  Max_Water_Temp  \n",
       "0        0.503887           22.44  \n",
       "1        1.240151           23.24  \n",
       "2        0.392402           23.11  \n",
       "3        2.426792           23.96  \n",
       "4        2.533686           26.87  \n",
       "5        1.619878           25.13  \n",
       "6        1.156345           24.60  \n",
       "7        1.676571           24.22  \n",
       "8        0.080936           22.13  \n",
       "9        1.978877           24.30  "
      ]
     },
     "execution_count": 31,
     "metadata": {},
     "output_type": "execute_result"
    }
   ],
   "source": [
    "# Filtering data for the month of August\n",
    "august_data = fish_data[fish_data['Month'] == 8]\n",
    "\n",
    "# Calculating summary statistics for air and water temperatures for each project\n",
    "summary_stats_august = august_data.groupby('Project Name').agg(\n",
    "    Min_Air_Temp=('Air Temperature (C)', 'min'),\n",
    "    Mean_Air_Temp=('Air Temperature (C)', 'mean'),\n",
    "    Std_Air_Temp=('Air Temperature (C)', 'std'),\n",
    "    Max_Air_Temp=('Air Temperature (C)', 'max'),\n",
    "    Min_Water_Temp=('Water Temperature (C)', 'min'),\n",
    "    Mean_Water_Temp=('Water Temperature (C)', 'mean'),\n",
    "    Std_Water_Temp=('Water Temperature (C)', 'std'),\n",
    "    Max_Water_Temp=('Water Temperature (C)', 'max')\n",
    ")\n",
    "\n",
    "summary_stats_august.reset_index()\n"
   ]
  },
  {
   "cell_type": "markdown",
   "id": "790bf61d-8285-447a-afef-7d7dff1e4b0d",
   "metadata": {},
   "source": [
    "#### Air-water temperatures: visualizing yearly trend\n",
    "Make lineplots showing maximum air temperature and water temperature by `Month` and `Region`. To construct `Region`, use the Pandas function `cut()` to satisfy the following conditions:\n",
    "\n",
    "- Rows with a latitude lower than 42.4 should have *Southern* in the `Region` column \n",
    "- Rows with a latitude between 42.4 and 42.8 should have *Central* in the `Region` column \n",
    "- Rows with a latitude higher than 42.8 should have *Northern* in the `Region` column \n",
    "\n",
    "You can have the month on the horizontal axis, the temperature on the vertical axis, different colors for different regions, and different styles (solid line / dotted line) to indicate air/water temperature.\n",
    "\n",
    "Does anything in the visualization surprise you? Why or why not? \n",
    "\n",
    "*(14 points)*"
   ]
  },
  {
   "cell_type": "code",
   "execution_count": 32,
   "id": "f701f920",
   "metadata": {},
   "outputs": [
    {
     "name": "stderr",
     "output_type": "stream",
     "text": [
      "/var/folders/vh/bnk8gjpn5998vq44hzdttvwc0000gn/T/ipykernel_7373/4176011642.py:11: FutureWarning: The default of observed=False is deprecated and will be changed to True in a future version of pandas. Pass observed=False to retain current behavior or observed=True to adopt the future default and silence this warning.\n",
      "  max_temps = fish_data.groupby(['Region', 'Month']).agg(\n",
      "/Users/jinwens/anaconda3/lib/python3.11/site-packages/seaborn/_oldcore.py:1498: FutureWarning: is_categorical_dtype is deprecated and will be removed in a future version. Use isinstance(dtype, CategoricalDtype) instead\n",
      "  if pd.api.types.is_categorical_dtype(vector):\n",
      "/Users/jinwens/anaconda3/lib/python3.11/site-packages/seaborn/_oldcore.py:1498: FutureWarning: is_categorical_dtype is deprecated and will be removed in a future version. Use isinstance(dtype, CategoricalDtype) instead\n",
      "  if pd.api.types.is_categorical_dtype(vector):\n",
      "/Users/jinwens/anaconda3/lib/python3.11/site-packages/seaborn/_oldcore.py:1498: FutureWarning: is_categorical_dtype is deprecated and will be removed in a future version. Use isinstance(dtype, CategoricalDtype) instead\n",
      "  if pd.api.types.is_categorical_dtype(vector):\n",
      "/Users/jinwens/anaconda3/lib/python3.11/site-packages/seaborn/_oldcore.py:1498: FutureWarning: is_categorical_dtype is deprecated and will be removed in a future version. Use isinstance(dtype, CategoricalDtype) instead\n",
      "  if pd.api.types.is_categorical_dtype(vector):\n",
      "/Users/jinwens/anaconda3/lib/python3.11/site-packages/seaborn/_oldcore.py:1498: FutureWarning: is_categorical_dtype is deprecated and will be removed in a future version. Use isinstance(dtype, CategoricalDtype) instead\n",
      "  if pd.api.types.is_categorical_dtype(vector):\n",
      "/Users/jinwens/anaconda3/lib/python3.11/site-packages/seaborn/_oldcore.py:1119: FutureWarning: use_inf_as_na option is deprecated and will be removed in a future version. Convert inf values to NaN before operating instead.\n",
      "  with pd.option_context('mode.use_inf_as_na', True):\n",
      "/Users/jinwens/anaconda3/lib/python3.11/site-packages/seaborn/_oldcore.py:1119: FutureWarning: use_inf_as_na option is deprecated and will be removed in a future version. Convert inf values to NaN before operating instead.\n",
      "  with pd.option_context('mode.use_inf_as_na', True):\n",
      "/Users/jinwens/anaconda3/lib/python3.11/site-packages/seaborn/_oldcore.py:1057: FutureWarning: The default of observed=False is deprecated and will be changed to True in a future version of pandas. Pass observed=False to retain current behavior or observed=True to adopt the future default and silence this warning.\n",
      "  grouped_data = data.groupby(\n",
      "/Users/jinwens/anaconda3/lib/python3.11/site-packages/seaborn/_oldcore.py:1498: FutureWarning: is_categorical_dtype is deprecated and will be removed in a future version. Use isinstance(dtype, CategoricalDtype) instead\n",
      "  if pd.api.types.is_categorical_dtype(vector):\n",
      "/Users/jinwens/anaconda3/lib/python3.11/site-packages/seaborn/_oldcore.py:1498: FutureWarning: is_categorical_dtype is deprecated and will be removed in a future version. Use isinstance(dtype, CategoricalDtype) instead\n",
      "  if pd.api.types.is_categorical_dtype(vector):\n",
      "/Users/jinwens/anaconda3/lib/python3.11/site-packages/seaborn/_oldcore.py:1498: FutureWarning: is_categorical_dtype is deprecated and will be removed in a future version. Use isinstance(dtype, CategoricalDtype) instead\n",
      "  if pd.api.types.is_categorical_dtype(vector):\n",
      "/Users/jinwens/anaconda3/lib/python3.11/site-packages/seaborn/_oldcore.py:1498: FutureWarning: is_categorical_dtype is deprecated and will be removed in a future version. Use isinstance(dtype, CategoricalDtype) instead\n",
      "  if pd.api.types.is_categorical_dtype(vector):\n",
      "/Users/jinwens/anaconda3/lib/python3.11/site-packages/seaborn/_oldcore.py:1498: FutureWarning: is_categorical_dtype is deprecated and will be removed in a future version. Use isinstance(dtype, CategoricalDtype) instead\n",
      "  if pd.api.types.is_categorical_dtype(vector):\n",
      "/Users/jinwens/anaconda3/lib/python3.11/site-packages/seaborn/_oldcore.py:1119: FutureWarning: use_inf_as_na option is deprecated and will be removed in a future version. Convert inf values to NaN before operating instead.\n",
      "  with pd.option_context('mode.use_inf_as_na', True):\n",
      "/Users/jinwens/anaconda3/lib/python3.11/site-packages/seaborn/_oldcore.py:1119: FutureWarning: use_inf_as_na option is deprecated and will be removed in a future version. Convert inf values to NaN before operating instead.\n",
      "  with pd.option_context('mode.use_inf_as_na', True):\n",
      "/Users/jinwens/anaconda3/lib/python3.11/site-packages/seaborn/_oldcore.py:1057: FutureWarning: The default of observed=False is deprecated and will be changed to True in a future version of pandas. Pass observed=False to retain current behavior or observed=True to adopt the future default and silence this warning.\n",
      "  grouped_data = data.groupby(\n"
     ]
    },
    {
     "data": {
      "image/png": "[encoded data removed]",
      "text/plain": [
       "<Figure size 1500x800 with 1 Axes>"
      ]
     },
     "metadata": {},
     "output_type": "display_data"
    }
   ],
   "source": [
    "import matplotlib.pyplot as plt\n",
    "import seaborn as sns\n",
    "import numpy as np\n",
    "\n",
    "# Creating the 'Region' column based on latitude\n",
    "bins = [np.NINF, 42.4, 42.8, np.inf]\n",
    "labels = ['Southern', 'Central', 'Northern']\n",
    "fish_data['Region'] = pd.cut(fish_data['Start Latitude'], bins=bins, labels=labels)\n",
    "\n",
    "# Filtering data for maximum air and water temperatures\n",
    "max_temps = fish_data.groupby(['Region', 'Month']).agg(\n",
    "    Max_Air_Temp=('Air Temperature (C)', 'max'),\n",
    "    Max_Water_Temp=('Water Temperature (C)', 'max')\n",
    ").reset_index()\n",
    "\n",
    "# Plotting the data\n",
    "plt.figure(figsize=(15, 8))\n",
    "sns.lineplot(data=max_temps, x='Month', y='Max_Air_Temp', hue='Region', style='Region', markers=True, dashes=False, linewidth=2)\n",
    "sns.lineplot(data=max_temps, x='Month', y='Max_Water_Temp', hue='Region', style='Region', markers=True, dashes=True, linewidth=2)\n",
    "\n",
    "plt.title('Yearly Trends of Maximum Air and Water Temperatures by Month and Region')\n",
    "plt.xlabel('Month')\n",
    "plt.ylabel('Temperature (°C)')\n",
    "plt.legend(title='Region & Temperature Type', labels=['Southern - Air', 'Central - Air', 'Northern - Air', 'Southern - Water', 'Central - Water', 'Northern - Water'])\n",
    "plt.grid(True)\n",
    "plt.show()\n"
   ]
  },
  {
   "cell_type": "markdown",
   "id": "4a78ca43",
   "metadata": {},
   "source": [
    "From the visualization, **Three** aspects deserve our attention here. \n",
    "\n",
    "1. Seasonal Trends: Both air and water temperatures show clear seasonal patterns, with temperatures peaking in the warmer months and declining towards the colder months.\n",
    "2. Regional Variations: There are noticeable differences in temperatures among the regions. Generally, the Southern region tends to have higher temperatures, followed by the Central and Northern regions, which is consistent with geographical climate expectations.\n",
    "3. Air vs. Water Temperatures: Air temperatures tend to fluctuate more dramatically over the year compared to water temperatures. Water temperatures, while also showing seasonal variation, tend to have a more buffered or moderated response.\n",
    "\n",
    "In summary, it is some surprises in specific months where the trends do not follow the expected gradual increase or decrease. These could be due to various factors like anomalous weather conditions, data collection inconsistencies, or unique environmental factors affecting specific regions."
   ]
  },
  {
   "cell_type": "markdown",
   "id": "5bacf62d-a27d-43c5-bfce-47f554bd5f7a",
   "metadata": {},
   "source": [
    "### Fish diversity\n",
    "\n",
    "Finally let's focus on the stars of this survey—the fish, of course."
   ]
  },
  {
   "cell_type": "markdown",
   "id": "735493cf-12ed-404b-9ee5-2d7587007d7e",
   "metadata": {},
   "source": [
    "#### Top 3 species by `Region`\n",
    "Let's continue using our `Region` categorization. Find the top three fish `Species` in each region by `Number Captured`. \n",
    "\n",
    "*(10 points)*"
   ]
  },
  {
   "cell_type": "code",
   "execution_count": 33,
   "id": "e6679b70",
   "metadata": {},
   "outputs": [
    {
     "name": "stderr",
     "output_type": "stream",
     "text": [
      "/var/folders/vh/bnk8gjpn5998vq44hzdttvwc0000gn/T/ipykernel_7373/3083570556.py:2: FutureWarning: The default of observed=False is deprecated and will be changed to True in a future version of pandas. Pass observed=False to retain current behavior or observed=True to adopt the future default and silence this warning.\n",
      "  top_species_by_region = fish_data.groupby(['Region', 'Species'])['Number Captured'].sum().reset_index()\n",
      "/var/folders/vh/bnk8gjpn5998vq44hzdttvwc0000gn/T/ipykernel_7373/3083570556.py:5: FutureWarning: The default of observed=False is deprecated and will be changed to True in a future version of pandas. Pass observed=False to retain current behavior or observed=True to adopt the future default and silence this warning.\n",
      "  top_3_species_by_region = top_species_by_region.sort_values(['Region', 'Number Captured'], ascending=[True, False]).groupby('Region').head(3)\n"
     ]
    },
    {
     "data": {
      "text/html": [
       "<div>\n",
       "<style scoped>\n",
       "    .dataframe tbody tr th:only-of-type {\n",
       "        vertical-align: middle;\n",
       "    }\n",
       "\n",
       "    .dataframe tbody tr th {\n",
       "        vertical-align: top;\n",
       "    }\n",
       "\n",
       "    .dataframe thead th {\n",
       "        text-align: right;\n",
       "    }\n",
       "</style>\n",
       "<table border=\"1\" class=\"dataframe\">\n",
       "  <thead>\n",
       "    <tr style=\"text-align: right;\">\n",
       "      <th></th>\n",
       "      <th>Region</th>\n",
       "      <th>Species</th>\n",
       "      <th>Number Captured</th>\n",
       "    </tr>\n",
       "  </thead>\n",
       "  <tbody>\n",
       "    <tr>\n",
       "      <th>63</th>\n",
       "      <td>Southern</td>\n",
       "      <td>Lepomis macrochirus</td>\n",
       "      <td>5072.0</td>\n",
       "    </tr>\n",
       "    <tr>\n",
       "      <th>26</th>\n",
       "      <td>Southern</td>\n",
       "      <td>Dorosoma cepedianum</td>\n",
       "      <td>3559.0</td>\n",
       "    </tr>\n",
       "    <tr>\n",
       "      <th>82</th>\n",
       "      <td>Southern</td>\n",
       "      <td>Neogobius melanostomus</td>\n",
       "      <td>2265.0</td>\n",
       "    </tr>\n",
       "    <tr>\n",
       "      <th>195</th>\n",
       "      <td>Central</td>\n",
       "      <td>Lepomis macrochirus</td>\n",
       "      <td>2126.0</td>\n",
       "    </tr>\n",
       "    <tr>\n",
       "      <th>186</th>\n",
       "      <td>Central</td>\n",
       "      <td>Labidesthes sicculus</td>\n",
       "      <td>2029.0</td>\n",
       "    </tr>\n",
       "    <tr>\n",
       "      <th>223</th>\n",
       "      <td>Central</td>\n",
       "      <td>Notropis heterodon</td>\n",
       "      <td>1562.0</td>\n",
       "    </tr>\n",
       "    <tr>\n",
       "      <th>346</th>\n",
       "      <td>Northern</td>\n",
       "      <td>Neogobius melanostomus</td>\n",
       "      <td>2522.0</td>\n",
       "    </tr>\n",
       "    <tr>\n",
       "      <th>362</th>\n",
       "      <td>Northern</td>\n",
       "      <td>Notropis volucellus</td>\n",
       "      <td>2104.0</td>\n",
       "    </tr>\n",
       "    <tr>\n",
       "      <th>327</th>\n",
       "      <td>Northern</td>\n",
       "      <td>Lepomis macrochirus</td>\n",
       "      <td>1841.0</td>\n",
       "    </tr>\n",
       "  </tbody>\n",
       "</table>\n",
       "</div>"
      ],
      "text/plain": [
       "       Region                 Species  Number Captured\n",
       "63   Southern     Lepomis macrochirus           5072.0\n",
       "26   Southern     Dorosoma cepedianum           3559.0\n",
       "82   Southern  Neogobius melanostomus           2265.0\n",
       "195   Central     Lepomis macrochirus           2126.0\n",
       "186   Central    Labidesthes sicculus           2029.0\n",
       "223   Central      Notropis heterodon           1562.0\n",
       "346  Northern  Neogobius melanostomus           2522.0\n",
       "362  Northern     Notropis volucellus           2104.0\n",
       "327  Northern     Lepomis macrochirus           1841.0"
      ]
     },
     "execution_count": 33,
     "metadata": {},
     "output_type": "execute_result"
    }
   ],
   "source": [
    "# Grouping by Region and Species, then summing up the Number Captured for each group\n",
    "top_species_by_region = fish_data.groupby(['Region', 'Species'])['Number Captured'].sum().reset_index()\n",
    "\n",
    "# Finding the top 3 species in each region by Number Captured\n",
    "top_3_species_by_region = top_species_by_region.sort_values(['Region', 'Number Captured'], ascending=[True, False]).groupby('Region').head(3)\n",
    "top_3_species_by_region"
   ]
  },
  {
   "cell_type": "markdown",
   "id": "112eee58-3587-40df-8197-7bbe210053cf",
   "metadata": {},
   "source": [
    "#### Species spread across `Region`\n",
    "Are certain fish only found in some regions? Visualize how many species are in all three regions, how many are in two of three, and how many were only captured in one region. \n",
    "\n",
    "*(10 points)*"
   ]
  },
  {
   "cell_type": "code",
   "execution_count": 35,
   "id": "77db0b39",
   "metadata": {},
   "outputs": [
    {
     "data": {
      "text/plain": [
       "(                         Species  Region\n",
       " 0           Alosa pseudoharengus       3\n",
       " 1          Ambloplites rupestris       3\n",
       " 2                 Ameiurus melas       3\n",
       " 3               Ameiurus natalis       3\n",
       " 4             Ameiurus nebulosus       3\n",
       " ..                           ...     ...\n",
       " 127  Scardinius erythrophthalmus       1\n",
       " 128      Semotilus atromaculatus       2\n",
       " 129         Semotilus corporalis       1\n",
       " 130                   Umbra limi       3\n",
       " 131                      Unknown       3\n",
       " \n",
       " [132 rows x 2 columns],\n",
       " Region\n",
       " 1    51\n",
       " 2    30\n",
       " 3    51\n",
       " Name: count, dtype: int64)"
      ]
     },
     "execution_count": 35,
     "metadata": {},
     "output_type": "execute_result"
    }
   ],
   "source": [
    "# Counting the number of regions in which each species is found\n",
    "species_region_count = fish_data.groupby('Species')['Region'].nunique().reset_index()\n",
    "\n",
    "# Counting how many species are found in 1, 2, or all 3 regions\n",
    "species_region_distribution = species_region_count['Region'].value_counts().sort_index()\n",
    "species_region_count, species_region_distribution"
   ]
  },
  {
   "cell_type": "markdown",
   "id": "f14bc09b",
   "metadata": {},
   "source": [
    "51 species are found exclusively in one region.\n",
    "30 species are found in two out of the three regions.\n",
    "51 species are found in all three regions."
   ]
  },
  {
   "cell_type": "markdown",
   "id": "0dfa7dc4-c111-4d1a-b5e3-d71ab0cb7437",
   "metadata": {},
   "source": [
    "#### Exclusive fishes by region\n",
    "What percentage of all species are exclusively captured in the Southern region? How about the Northern Region? And the Central region? \n",
    "\n",
    "*(10 points)*\n",
    "\n",
    "**Hint:**\n",
    "\n",
    "1. Find the number of distinct regions in which each species is found.\n",
    "2. Filter the species that are found only in one region.\n",
    "3. Group the data, containing only the species found in (2), by region, count the number of unique species in each group, and divide by the total number of distinct species."
   ]
  },
  {
   "cell_type": "code",
   "execution_count": 41,
   "id": "d02adab6",
   "metadata": {},
   "outputs": [
    {
     "name": "stderr",
     "output_type": "stream",
     "text": [
      "/var/folders/vh/bnk8gjpn5998vq44hzdttvwc0000gn/T/ipykernel_7373/2891620466.py:10: FutureWarning: The default of observed=False is deprecated and will be changed to True in a future version of pandas. Pass observed=False to retain current behavior or observed=True to adopt the future default and silence this warning.\n",
      "  exclusive_species_count_by_region = exclusive_species_data.groupby('Region')['Species'].nunique()\n"
     ]
    },
    {
     "data": {
      "text/plain": [
       "Region\n",
       "Southern     9.090909\n",
       "Central      4.545455\n",
       "Northern    25.000000\n",
       "Name: Species, dtype: float64"
      ]
     },
     "execution_count": 41,
     "metadata": {},
     "output_type": "execute_result"
    }
   ],
   "source": [
    "# Identifying species that are exclusive to one region\n",
    "exclusive_species = species_region_count[species_region_count['Region'] == 1]\n",
    "\n",
    "total_species = fish_data['Species'].nunique()\n",
    "\n",
    "# Filtering out only those species that are exclusive to one region\n",
    "exclusive_species_data = fish_data[fish_data['Species'].isin(exclusive_species['Species'])]\n",
    "\n",
    "# Counting the number of exclusive species in each region\n",
    "exclusive_species_count_by_region = exclusive_species_data.groupby('Region')['Species'].nunique()\n",
    "\n",
    "# Calculating the percentage of exclusive species in each region relative to the total number of distinct species\n",
    "exclusive_species_percentage = (exclusive_species_count_by_region / total_species) * 100\n",
    "exclusive_species_percentage\n"
   ]
  },
  {
   "cell_type": "markdown",
   "id": "e4d472f5",
   "metadata": {},
   "source": [
    "Southern Region: Approximately 9.09% of all species are exclusive to this region.\n",
    "\n",
    "Central Region: About 4.55% of all species are exclusive to this region.\n",
    "\n",
    "Northern Region: Approximately 25.00% of all species are exclusive to this region."
   ]
  },
  {
   "cell_type": "markdown",
   "id": "e28eb2ae-4aa4-4caa-84dd-f4b3bde7d840",
   "metadata": {},
   "source": [
    "#### Turbidity\n",
    "Turbidity (`Turbidity (ntu)`) quantifies the level of cloudiness in liquid. For fish in each of the three regions, is there a linear association between turbidity and number of fish caught? You may consider a correlation higher than 50% in magnitude as presence of a linear association.\n",
    "\n",
    "*(5 points)*"
   ]
  },
  {
   "cell_type": "code",
   "execution_count": 42,
   "id": "243b2390",
   "metadata": {},
   "outputs": [
    {
     "name": "stderr",
     "output_type": "stream",
     "text": [
      "/var/folders/vh/bnk8gjpn5998vq44hzdttvwc0000gn/T/ipykernel_7373/1871758723.py:2: FutureWarning: The default of observed=False is deprecated and will be changed to True in a future version of pandas. Pass observed=False to retain current behavior or observed=True to adopt the future default and silence this warning.\n",
      "  turbidity_correlation = fish_data.groupby('Region').apply(lambda x: x['Turbidity (ntu)'].corr(x['Number Captured']))\n"
     ]
    },
    {
     "data": {
      "text/plain": [
       "Region\n",
       "Southern   -0.019202\n",
       "Central    -0.016327\n",
       "Northern    0.063456\n",
       "dtype: float64"
      ]
     },
     "execution_count": 42,
     "metadata": {},
     "output_type": "execute_result"
    }
   ],
   "source": [
    "# Calculating the correlation between turbidity and number of fish caught for each region\n",
    "turbidity_correlation = fish_data.groupby('Region').apply(lambda x: x['Turbidity (ntu)'].corr(x['Number Captured']))\n",
    "turbidity_correlation"
   ]
  },
  {
   "cell_type": "markdown",
   "id": "e6345a2b",
   "metadata": {},
   "source": [
    "Southern Region: The correlation is approximately -0.019, indicating a very weak negative linear association.\n",
    "\n",
    "Central Region: The correlation is approximately -0.016, also indicating a very weak negative linear association.\n",
    "\n",
    "Northern Region: The correlation is approximately 0.063, indicating a very weak positive linear association.\n",
    "\n",
    "**None of these correlations exceed the 50% threshold, suggesting that there isn't a strong linear association between turbidity and the number of fish caught in any of the regions.**"
   ]
  },
  {
   "cell_type": "markdown",
   "id": "3dfb3724-38f6-4428-911d-b3c234227d25",
   "metadata": {},
   "source": [
    "#### Fish dimensions\n",
    "Now let's turn to the length of fish captured, given by `Maximum (mm)` and `Minimum (mm)`. Find the overall maximum and minimum lengths of all fish in each region. Which region has the largest range in captured fish length? \n",
    "\n",
    "*(4 points)*"
   ]
  },
  {
   "cell_type": "code",
   "execution_count": 43,
   "id": "8c8c9330",
   "metadata": {},
   "outputs": [
    {
     "name": "stderr",
     "output_type": "stream",
     "text": [
      "/var/folders/vh/bnk8gjpn5998vq44hzdttvwc0000gn/T/ipykernel_7373/638370637.py:2: FutureWarning: The default of observed=False is deprecated and will be changed to True in a future version of pandas. Pass observed=False to retain current behavior or observed=True to adopt the future default and silence this warning.\n",
      "  fish_length_stats = fish_data.groupby('Region').agg(\n"
     ]
    },
    {
     "data": {
      "text/html": [
       "<div>\n",
       "<style scoped>\n",
       "    .dataframe tbody tr th:only-of-type {\n",
       "        vertical-align: middle;\n",
       "    }\n",
       "\n",
       "    .dataframe tbody tr th {\n",
       "        vertical-align: top;\n",
       "    }\n",
       "\n",
       "    .dataframe thead th {\n",
       "        text-align: right;\n",
       "    }\n",
       "</style>\n",
       "<table border=\"1\" class=\"dataframe\">\n",
       "  <thead>\n",
       "    <tr style=\"text-align: right;\">\n",
       "      <th></th>\n",
       "      <th>Max_Length</th>\n",
       "      <th>Min_Length</th>\n",
       "      <th>Length_Range</th>\n",
       "    </tr>\n",
       "    <tr>\n",
       "      <th>Region</th>\n",
       "      <th></th>\n",
       "      <th></th>\n",
       "      <th></th>\n",
       "    </tr>\n",
       "  </thead>\n",
       "  <tbody>\n",
       "    <tr>\n",
       "      <th>Southern</th>\n",
       "      <td>1130.0</td>\n",
       "      <td>8.0</td>\n",
       "      <td>1122.0</td>\n",
       "    </tr>\n",
       "    <tr>\n",
       "      <th>Central</th>\n",
       "      <td>785.0</td>\n",
       "      <td>9.0</td>\n",
       "      <td>776.0</td>\n",
       "    </tr>\n",
       "    <tr>\n",
       "      <th>Northern</th>\n",
       "      <td>760.0</td>\n",
       "      <td>10.0</td>\n",
       "      <td>750.0</td>\n",
       "    </tr>\n",
       "  </tbody>\n",
       "</table>\n",
       "</div>"
      ],
      "text/plain": [
       "          Max_Length  Min_Length  Length_Range\n",
       "Region                                        \n",
       "Southern      1130.0         8.0        1122.0\n",
       "Central        785.0         9.0         776.0\n",
       "Northern       760.0        10.0         750.0"
      ]
     },
     "execution_count": 43,
     "metadata": {},
     "output_type": "execute_result"
    }
   ],
   "source": [
    "# Calculating the maximum and minimum lengths of all fish in each region\n",
    "fish_length_stats = fish_data.groupby('Region').agg(\n",
    "    Max_Length=('Maximum (mm)', 'max'),\n",
    "    Min_Length=('Minimum (mm)', 'min')\n",
    ")\n",
    "\n",
    "# Calculating the range of fish length in each region\n",
    "fish_length_stats['Length_Range'] = fish_length_stats['Max_Length'] - fish_length_stats['Min_Length']\n",
    "fish_length_stats\n"
   ]
  },
  {
   "cell_type": "markdown",
   "id": "2bae6fa7",
   "metadata": {},
   "source": [
    "Southern Region:\n",
    "Maximum Length: 1130 mm\n",
    "Minimum Length: 8 mm\n",
    "Length Range: 1122 mm\n",
    "\n",
    "Central Region:\n",
    "Maximum Length: 785 mm\n",
    "Minimum Length: 9 mm\n",
    "Length Range: 776 mm\n",
    "\n",
    "Northern Region:\n",
    "Maximum Length: 760 mm\n",
    "Minimum Length: 10 mm\n",
    "Length Range: 750 mm"
   ]
  },
  {
   "cell_type": "markdown",
   "id": "f5152b24-3807-4130-883f-cacacfc2b6b8",
   "metadata": {},
   "source": [
    "#### **Bonus question:** Inverse Simpson index\n",
    "\n",
    "Find the inverse Simpson index of species counts for each waterbody type (`WaterbodyType`) within each region. Which combination of waterbody type and region has the greatest diversity of fish species? Which has the least?\n",
    "\n",
    "The inverse Simpson index $(\\frac{1}{\\lambda})$ is a measure of ecological diversity, for which a larger index number indicates a greater diversity of species. The index is calculated as:\n",
    "\n",
    "$\\frac{1}{\\lambda} = 1/(\\sum^R_{i=1} p_i^2)$\n",
    "\n",
    "where $R$ is the number of unique species and $p_i$ is the proportion of fish belonging to species $i$. \n",
    "\n",
    "*(5 points - no partial credit)*"
   ]
  },
  {
   "cell_type": "code",
   "execution_count": 45,
   "id": "90548dd9",
   "metadata": {},
   "outputs": [
    {
     "name": "stderr",
     "output_type": "stream",
     "text": [
      "/var/folders/vh/bnk8gjpn5998vq44hzdttvwc0000gn/T/ipykernel_7373/4274259283.py:9: FutureWarning: The default of observed=False is deprecated and will be changed to True in a future version of pandas. Pass observed=False to retain current behavior or observed=True to adopt the future default and silence this warning.\n",
      "  inverse_simpson = fish_data.groupby(['Region', 'WaterbodyType']).apply(inverse_simpson_index).reset_index()\n"
     ]
    },
    {
     "data": {
      "text/plain": [
       "(     Region WaterbodyType  Inverse_Simpson_Index\n",
       " 6  Northern        Stream              33.642069,\n",
       "      Region WaterbodyType  Inverse_Simpson_Index\n",
       " 5  Northern          Lake               8.785754)"
      ]
     },
     "execution_count": 45,
     "metadata": {},
     "output_type": "execute_result"
    }
   ],
   "source": [
    "def inverse_simpson_index(data):\n",
    "    \"\"\"Calculate the inverse Simpson index for a given dataset.\"\"\"\n",
    "    species_counts = data['Species'].value_counts()\n",
    "    proportions = species_counts / species_counts.sum()\n",
    "    simpson_index = np.sum(proportions**2)\n",
    "    return 1 / simpson_index\n",
    "\n",
    "# Calculating the inverse Simpson index for each waterbody type within each region\n",
    "inverse_simpson = fish_data.groupby(['Region', 'WaterbodyType']).apply(inverse_simpson_index).reset_index()\n",
    "inverse_simpson.columns = ['Region', 'WaterbodyType', 'Inverse_Simpson_Index']\n",
    "\n",
    "# Identifying the combination with the greatest and least diversity of fish species\n",
    "max_diversity = inverse_simpson[inverse_simpson['Inverse_Simpson_Index'] == inverse_simpson['Inverse_Simpson_Index'].max()]\n",
    "min_diversity = inverse_simpson[inverse_simpson['Inverse_Simpson_Index'] == inverse_simpson['Inverse_Simpson_Index'].min()]\n",
    "\n",
    "max_diversity, min_diversity"
   ]
  },
  {
   "cell_type": "markdown",
   "id": "adb0a9ec",
   "metadata": {},
   "source": [
    "1. Greatest Diversity:\n",
    "\n",
    "- Region: Northern\n",
    "- Waterbody Type: Stream\n",
    "- Inverse Simpson Index: Approximately 33.64\n",
    "\n",
    "2. Least Diversity:\n",
    "- Region: Northern\n",
    "- Waterbody Type: Lake\n",
    "- Inverse Simpson Index: Approximately 8.79"
   ]
  },
  {
   "cell_type": "code",
   "execution_count": null,
   "id": "2e044a65",
   "metadata": {},
   "outputs": [],
   "source": []
  }
 ],
 "metadata": {
  "kernelspec": {
   "display_name": "Python 3 (ipykernel)",
   "language": "python",
   "name": "python3"
  },
  "language_info": {
   "codemirror_mode": {
    "name": "ipython",
    "version": 3
   },
   "file_extension": ".py",
   "mimetype": "text/x-python",
   "name": "python",
   "nbconvert_exporter": "python",
   "pygments_lexer": "ipython3",
   "version": "3.11.4"
  }
 },
 "nbformat": 4,
 "nbformat_minor": 5
}
