{
 "cells": [
  {
   "cell_type": "markdown",
   "id": "14db84c0",
   "metadata": {},
   "source": [
    "# A1 # "
   ]
  },
  {
   "cell_type": "code",
   "execution_count": 4,
   "id": "d16accce",
   "metadata": {},
   "outputs": [],
   "source": [
    "# load the list\n",
    "T = [3007, 3067, 3244, 3375,3574, 3828, 4146, 4336, 4696, 5032,5234,5609,6094,6726,7226,7801,8592,9453,10565,11674,12575,13976,14434,15544,17121,18237,19071,20039,21417,22857,23889,24342,25419,26387,27695,28691,29968,31459,32854,34515,36330,37134,37998,39490,41725,44123,46302,48050,48570,47195,48651,50066,51784,53291,55124,56763,57867,59915,62805,65095,63028,69288]"
   ]
  },
  {
   "cell_type": "code",
   "execution_count": 5,
   "id": "4fbfbcfd",
   "metadata": {},
   "outputs": [
    {
     "name": "stdout",
     "output_type": "stream",
     "text": [
      "[60, 177, 131, 199, 254, 318, 190, 360, 336, 202, 375, 485, 632, 500, 575, 791, 861, 1112, 1109, 901, 1401, 458, 1110, 1577, 1116, 834, 968, 1378, 1440, 1032, 453, 1077, 968, 1308, 996, 1277, 1491, 1395, 1661, 1815, 804, 864, 1492, 2235, 2398, 2179, 1748, 520, -1375, 1456, 1415, 1718, 1507, 1833, 1639, 1104, 2048, 2890, 2290, -2067, 6260]\n"
     ]
    }
   ],
   "source": [
    "# Question A1.1: Create a new list for GDP_increase\n",
    "GDP_increase = [T[i+1]-T[i] for i in range (len(T)-1)]\n",
    "print(GDP_increase)"
   ]
  },
  {
   "cell_type": "markdown",
   "id": "19a21188",
   "metadata": {},
   "source": [
    "## A1.1 ##\n",
    "\n",
    "**GDP_increase: [60, 177, 131, 199, 254, 318, 190, 360, 336, 202, 375, 485, 632, 500, 575, 791, 861, 1112, 1109, 901, 1401, 458, 1110, 1577, 1116, 834, 968, 1378, 1440, 1032, 453, 1077, 968, 1308, 996, 1277, 1491, 1395, 1661, 1815, 804, 864, 1492, 2235, 2398, 2179, 1748, 520, -1375, 1456, 1415, 1718, 1507, 1833, 1639, 1104, 2048, 2890, 2290, -2067, 6260]**"
   ]
  },
  {
   "cell_type": "code",
   "execution_count": 6,
   "id": "cf69ced7",
   "metadata": {},
   "outputs": [
    {
     "data": {
      "text/plain": [
       "6260"
      ]
     },
     "execution_count": 6,
     "metadata": {},
     "output_type": "execute_result"
    }
   ],
   "source": [
    "# Question A1.2: Use GDP_increase to find the maximum gap size, i.e, the maximum increase in GDP per capita\n",
    "Maximum = max(GDP_increase)\n",
    "Maximum"
   ]
  },
  {
   "cell_type": "markdown",
   "id": "78b2c0bc",
   "metadata": {},
   "source": [
    "## A1.2 ##\n",
    "**Maximum = 6260.**"
   ]
  },
  {
   "cell_type": "code",
   "execution_count": 7,
   "id": "7a1f9681",
   "metadata": {},
   "outputs": [
    {
     "data": {
      "text/plain": [
       "52.459016393442624"
      ]
     },
     "execution_count": 7,
     "metadata": {},
     "output_type": "execute_result"
    }
   ],
   "source": [
    "# Question A.1.3: Find the percentage of gaps that have size greater than $1000.\n",
    "GDP_greater_than_1000 = [num for num in GDP_increase if num > 1000]\n",
    "Percentage_GDP_greater_than_1000 = (len(GDP_greater_than_1000)/len(GDP_increase))*100\n",
    "Percentage_GDP_greater_than_1000"
   ]
  },
  {
   "cell_type": "markdown",
   "id": "f1264041",
   "metadata": {},
   "source": [
    "## A1.3 ##\n",
    "**Percentage_GDP_greater_than_1000 = 52.459016393442624%**"
   ]
  },
  {
   "cell_type": "code",
   "execution_count": 8,
   "id": "009b9ec0",
   "metadata": {},
   "outputs": [
    {
     "name": "stdout",
     "output_type": "stream",
     "text": [
      "[2004, 2005, 2006, 2017, 2018, 2019, 2021]\n",
      "[2004, 2005, 2006, 2017, 2018, 2019, 2021]\n"
     ]
    }
   ],
   "source": [
    "# Question A.1.4: List of years in which the GDP per capita increase was more than $2000 \n",
    "# The list starts from 1960 to 2021. Because of len(GDP_increase) + 1 = len(T). We need to restort the years count.\n",
    "\n",
    "years_with_high_increase = [1960 + i + 1 for i, increase in enumerate(GDP_increase) if increase > 2000]\n",
    "years_with_high_increase_alt = [1960 + i for i, increase in enumerate(GDP_increase, start=1) if increase > 2000]\n",
    "\n",
    "# i is the index, returned by  enumerate(GDP_increase). i starts from 0 for index\n",
    "# have start =1 inside of enumerate call. \n",
    "print(years_with_high_increase)\n",
    "print(years_with_high_increase_alt)"
   ]
  },
  {
   "cell_type": "markdown",
   "id": "ffdcd683",
   "metadata": {},
   "source": [
    "## A1.4 ##\n",
    "\n",
    "**years_with_high_increase = [2004, 2005, 2006, 2017, 2018, 2019, 2021].**"
   ]
  },
  {
   "cell_type": "code",
   "execution_count": 9,
   "id": "4b21b514",
   "metadata": {},
   "outputs": [
    {
     "name": "stdout",
     "output_type": "stream",
     "text": [
      "Differences for each 5-year period starting from 1976: [3983, 4261, 4818, 4349, 6362, 6989, 2349, 6697, 7228]\n",
      "The 5-year period with the smallest difference was 2006-2010, with a difference of 2349.\n"
     ]
    }
   ],
   "source": [
    "# Question A.1.5: Difference between the maximum and minimum GDP per capita values for each of the 5 year-periods & find increase minimum\n",
    "# Find the index of 1976 \n",
    "index_1976 = 1976-1960 \n",
    "#Iterates through T in 5-year chunks, starting from the index corresponding to 1976 with step value = 5. \n",
    "differences = [max(T[i:i+5]) - min(T[i:i+5]) for i in range(index_1976, len(T)-4, 5)]\n",
    "min_diff = min(differences)\n",
    "\n",
    "min_diff_period_start = 1976 + 5 * differences.index(min_diff)\n",
    "min_diff_period_end = min_diff_period_start + 4\n",
    "\n",
    "print(f\"Differences for each 5-year period starting from 1976: {differences}\")\n",
    "print(f\"The 5-year period with the smallest difference was {min_diff_period_start}-{min_diff_period_end}, with a difference of {min_diff}.\")\n",
    "\n"
   ]
  },
  {
   "cell_type": "markdown",
   "id": "9902f75c",
   "metadata": {},
   "source": [
    "## A1.5 ##\n",
    "### A1.5.1 ###\n",
    "\n",
    "**Differences for each 5-year period starting from 1976: [3983, 4261, 4818, 4349, 6362, 6989, 2349, 6697, 7228].**\n",
    "### A1.5.2 ###\n",
    "\n",
    "**The 5-year period with the smallest difference was 2006-2010, with a difference of 2349.**"
   ]
  },
  {
   "cell_type": "markdown",
   "id": "e2c5d3df",
   "metadata": {},
   "source": [
    "# A2 #"
   ]
  },
  {
   "cell_type": "code",
   "execution_count": 10,
   "id": "b01ffcf9",
   "metadata": {},
   "outputs": [],
   "source": [
    "majors_minors = majors_minors = [['Humanities / Communications', 'Math / Statistics / Computer Science'], ['Social Sciences / Education', 'Math / Statistics / Computer Science'], ['Math / Statistics / Computer Science'], ['Humanities / Communications', 'Math / Statistics / Computer Science'], ['Physical Sciences / Natural Sciences / Engineering',  'Math / Statistics / Computer Science'], ['Humanities / Communications',  'Physical Sciences / Natural Sciences / Engineering',  'Math / Statistics / Computer Science'], ['Humanities / Communications', 'Math / Statistics / Computer Science'], ['Humanities / Communications',  'Social Sciences / Education',  'Math / Statistics / Computer Science'], ['Math / Statistics / Computer Science'], ['Math / Statistics / Computer Science'], ['Math / Statistics / Computer Science'], ['Physical Sciences / Natural Sciences / Engineering'], ['Humanities / Communications', 'Math / Statistics / Computer Science'], ['Math / Statistics / Computer Science'], ['Social Sciences / Education', 'Math / Statistics / Computer Science'], ['Social Sciences / Education'], ['Physical Sciences / Natural Sciences / Engineering',  'Math / Statistics / Computer Science'], ['Humanities / Communications', 'Math / Statistics / Computer Science'], ['Social Sciences / Education'], ['Social Sciences / Education', 'Math / Statistics / Computer Science'], ['Physical Sciences / Natural Sciences / Engineering',  'Math / Statistics / Computer Science'], ['Social Sciences / Education', 'Math / Statistics / Computer Science'], ['Physical Sciences / Natural Sciences / Engineering'], ['Social Sciences / Education', 'Math / Statistics / Computer Science'], ['Physical Sciences / Natural Sciences / Engineering'], ['Math / Statistics / Computer Science'], ['Physical Sciences / Natural Sciences / Engineering',  'Math / Statistics / Computer Science'], ['Physical Sciences / Natural Sciences / Engineering'], ['Social Sciences / Education', 'Math / Statistics / Computer Science'], ['Social Sciences / Education'], ['Physical Sciences / Natural Sciences / Engineering'], ['Physical Sciences / Natural Sciences / Engineering',  'Math / Statistics / Computer Science'], ['Cognitive Science'], ['Math / Statistics / Computer Science'], ['Social Sciences / Education', 'Math / Statistics / Computer Science'], ['Social Sciences / Education', 'Math / Statistics / Computer Science'], ['Math / Statistics / Computer Science'], ['Physical Sciences / Natural Sciences / Engineering'], ['Math / Statistics / Computer Science'], ['Math / Statistics / Computer Science'], ['Math / Statistics / Computer Science'], ['Physical Sciences / Natural Sciences / Engineering'], ['Math / Statistics / Computer Science'], ['Social Sciences / Education', 'Math / Statistics / Computer Science'], ['Math / Statistics / Computer Science'], ['Social Sciences / Education', 'Music'], ['Social Sciences / Education'], ['Physical Sciences / Natural Sciences / Engineering'], ['Social Sciences / Education', 'Math / Statistics / Computer Science'], ['Social Sciences / Education', 'Math / Statistics / Computer Science'], ['Social Sciences / Education', 'Math / Statistics / Computer Science'], ['Math / Statistics / Computer Science'], ['Data Science'], ['Social Sciences / Education'], ['Math / Statistics / Computer Science', 'jazz'], ['Humanities / Communications', 'Social Sciences / Education'], ['Math / Statistics / Computer Science'], ['Physical Sciences / Natural Sciences / Engineering'], ['Humanities / Communications', 'Math / Statistics / Computer Science'], ['Humanities / Communications', 'Math / Statistics / Computer Science'], ['Humanities / Communications',  'Social Sciences / Education',  'Math / Statistics / Computer Science'], ['Social Sciences / Education', 'Math / Statistics / Computer Science'], ['Social Sciences / Education'], ['Math / Statistics / Computer Science'], ['Humanities / Communications', 'Math / Statistics / Computer Science'], ['Physical Sciences / Natural Sciences / Engineering',  'Math / Statistics / Computer Science'], ['Social Sciences / Education'], ['Social Sciences / Education', 'Math / Statistics / Computer Science'], ['Social Sciences / Education', 'Math / Statistics / Computer Science'], ['Physical Sciences / Natural Sciences / Engineering',  'Math / Statistics / Computer Science'], ['Humanities / Communications', 'Math / Statistics / Computer Science'], ['Social Sciences / Education', 'Math / Statistics / Computer Science'], ['Math / Statistics / Computer Science'], ['Math / Statistics / Computer Science'], ['Econ'], ['Physical Sciences / Natural Sciences / Engineering'], ['Social Sciences / Education', ''], ['Math / Statistics / Computer Science'], ['Math / Statistics / Computer Science'], ['Physical Sciences / Natural Sciences / Engineering'], ['Humanities / Communications', 'Math / Statistics / Computer Science'], ['Math / Statistics / Computer Science'], ['Physical Sciences / Natural Sciences / Engineering',  'Math / Statistics / Computer Science'], ['Math / Statistics / Computer Science'], ['Math / Statistics / Computer Science'], ['Physical Sciences / Natural Sciences / Engineering',  'Math / Statistics / Computer Science'], ['Physical Sciences / Natural Sciences / Engineering'], ['Physical Sciences / Natural Sciences / Engineering'], ['Social Sciences / Education', 'Math / Statistics / Computer Science'], ['Math / Statistics / Computer Science'], ['Physical Sciences / Natural Sciences / Engineering',  'Math / Statistics / Computer Science'], ['Physical Sciences / Natural Sciences / Engineering',  'Math / Statistics / Computer Science'], ['Social Sciences / Education', 'Math / Statistics / Computer Science'], ['Social Sciences / Education', 'Math / Statistics / Computer Science'], ['Math / Statistics / Computer Science'], ['Humanities / Communications',  'Social Sciences / Education',  'Math / Statistics / Computer Science'], ['Math / Statistics / Computer Science'], ['Humanities / Communications', 'Social Sciences / Education'], ['Math / Statistics / Computer Science'], ['Social Sciences / Education', 'Math / Statistics / Computer Science'], ['Math / Statistics / Computer Science'], ['Math / Statistics / Computer Science'], ['Social Sciences / Education'], ['Social Sciences / Education'], ['Math / Statistics / Computer Science'], ['Math / Statistics / Computer Science'], ['Math / Statistics / Computer Science'], ['Humanities / Communications', 'Social Sciences / Education'], ['Physical Sciences / Natural Sciences / Engineering'], ['Social Sciences / Education', 'Math / Statistics / Computer Science'], ['Math / Statistics / Computer Science'], ['Math / Statistics / Computer Science'], ['Physical Sciences / Natural Sciences / Engineering'], ['Social Sciences / Education'], ['Humanities / Communications'], ['Math / Statistics / Computer Science'], ['Social Sciences / Education', 'Math / Statistics / Computer Science'], ['Social Sciences / Education', 'Math / Statistics / Computer Science'], ['Physical Sciences / Natural Sciences / Engineering',  'Math / Statistics / Computer Science'], ['Social Sciences / Education'], ['Math / Statistics / Computer Science'], ['Social Sciences / Education',  'Physical Sciences / Natural Sciences / Engineering',  'Math / Statistics / Computer Science'], ['Math / Statistics / Computer Science'], ['Social Sciences / Education', 'Math / Statistics / Computer Science'], ['Humanities / Communications', 'Social Sciences / Education'], ['Social Sciences / Education', 'Math / Statistics / Computer Science'], ['Physical Sciences / Natural Sciences / Engineering'], ['Humanities / Communications',  'Social Sciences / Education',  'Math / Statistics / Computer Science'], ['Math / Statistics / Computer Science'], ['Physical Sciences / Natural Sciences / Engineering'], ['Social Sciences / Education', 'Math / Statistics / Computer Science'], ['Physical Sciences / Natural Sciences / Engineering'], ['Social Sciences / Education', 'Math / Statistics / Computer Science'], ['Humanities / Communications'], ['Social Sciences / Education', 'Math / Statistics / Computer Science'], ['Social Sciences / Education',  'Physical Sciences / Natural Sciences / Engineering'], ['Math / Statistics / Computer Science'], ['Math / Statistics / Computer Science', 'Music'], ['Physical Sciences / Natural Sciences / Engineering'], ['Humanities / Communications'], ['Physical Sciences / Natural Sciences / Engineering'], ['Math / Statistics / Computer Science'], ['Social Sciences / Education', 'Math / Statistics / Computer Science'], ['Humanities / Communications', 'Math / Statistics / Computer Science'], ['Physical Sciences / Natural Sciences / Engineering'], ['Math / Statistics / Computer Science'], ['Math / Statistics / Computer Science'], ['Math / Statistics / Computer Science'], ['Social Sciences / Education'], ['Physical Sciences / Natural Sciences / Engineering'], ['Physical Sciences / Natural Sciences / Engineering',  'Math / Statistics / Computer Science'], ['Math / Statistics / Computer Science']]"
   ]
  },
  {
   "cell_type": "code",
   "execution_count": 11,
   "id": "9334be54",
   "metadata": {},
   "outputs": [
    {
     "data": {
      "text/plain": [
       "6"
      ]
     },
     "execution_count": 11,
     "metadata": {},
     "output_type": "execute_result"
    }
   ],
   "source": [
    "# A2.1: Students have major / minor in any three of the above mentioned four areas\n",
    "three_majors = [major_count for major_count in majors_minors if len(major_count) == 3]\n",
    "len(three_majors)"
   ]
  },
  {
   "cell_type": "markdown",
   "id": "e386d410",
   "metadata": {},
   "source": [
    "## A2.1 ## \n",
    "**6 students have major/minor in any three of the four mentioned areas.**\n"
   ]
  },
  {
   "cell_type": "code",
   "execution_count": 12,
   "id": "1649eff1",
   "metadata": {},
   "outputs": [
    {
     "data": {
      "text/plain": [
       "105"
      ]
     },
     "execution_count": 12,
     "metadata": {},
     "output_type": "execute_result"
    }
   ],
   "source": [
    "# A2.2: students have Math / Statistics / Computer Science as an area of their major / minor\n",
    "math_major = [math_count for math_count in majors_minors if \"Math / Statistics / Computer Science\" in math_count]\n",
    "len(math_major)"
   ]
  },
  {
   "cell_type": "markdown",
   "id": "fee624b6",
   "metadata": {},
   "source": [
    "## A2.2 ## \n",
    "**105 students have major/minor in Math / Statistics / Computer Science areas.**"
   ]
  },
  {
   "cell_type": "code",
   "execution_count": 13,
   "id": "dc205fca",
   "metadata": {},
   "outputs": [
    {
     "data": {
      "text/plain": [
       "44"
      ]
     },
     "execution_count": 13,
     "metadata": {},
     "output_type": "execute_result"
    }
   ],
   "source": [
    "# A2.3: Students only have Math / Statistics / Computer Science as an area of their major / minor\n",
    "only_math_major = [student for student in majors_minors if len(student) == 1 and \"Math / Statistics / Computer Science\" in student]\n",
    "len(only_math_major)"
   ]
  },
  {
   "cell_type": "markdown",
   "id": "c77fc48c",
   "metadata": {},
   "source": [
    "## A2.3 ## \n",
    "**44 students have major/minor only in Math / Statistics / Computer Science areas.**"
   ]
  },
  {
   "cell_type": "code",
   "execution_count": 14,
   "id": "eebb61dc",
   "metadata": {},
   "outputs": [
    {
     "name": "stdout",
     "output_type": "stream",
     "text": [
      "29\n",
      "34\n"
     ]
    }
   ],
   "source": [
    "# A2.4: Using list comprehension to find students with only \"Math / Statistics / Computer Science\" and \"Social Sciences / Education\"\n",
    "desired_majors = [\n",
    "    \"Math / Statistics / Computer Science\",\n",
    "    \"Social Sciences / Education\"]\n",
    "\n",
    "math_and_social_sci_dual = [\n",
    "    student for student in majors_minors \n",
    "    if all(major in student for major in desired_majors) and len(student) == 2]\n",
    "\n",
    "math_and_social_sci = [\n",
    "    student for student in majors_minors \n",
    "    if all(major in student for major in desired_majors)]\n",
    "\n",
    "print(len(math_and_social_sci_dual))\n",
    "print(len(math_and_social_sci))\n"
   ]
  },
  {
   "cell_type": "markdown",
   "id": "d5a47d80",
   "metadata": {},
   "source": [
    "## A2.4 ## \n",
    "**29** students double major/minor in Math / Statistics / Computer Science and \"Social Sciences / Education area.**\n",
    "\n",
    "**34** students have majors/minors in Math / Statistics / Computer Science and \"Social Sciences / Education area in thier academic plan (since 5  students have declared more than two major/minor in their selections.**"
   ]
  },
  {
   "cell_type": "markdown",
   "id": "e0ccf3c4",
   "metadata": {},
   "source": [
    "# A3 #  "
   ]
  },
  {
   "cell_type": "code",
   "execution_count": 15,
   "id": "fd448995",
   "metadata": {},
   "outputs": [],
   "source": [
    "starbucks_drinks_nutrition={'Cool Lime Starbucks Refreshers™ Beverage': [{'Nutrition_type': 'Calories', 'value': 45}, {'Nutrition_type': 'Fat', 'value': 0.0}, {'Nutrition_type': 'Carb', 'value': 11}, {'Nutrition_type': 'Fiber', 'value': 0}, {'Nutrition_type': 'Protein', 'value': 0}, {'Nutrition_type': 'Sodium', 'value': 10}], 'Strawberry Acai Starbucks Refreshers™ Beverage': [{'Nutrition_type': 'Calories', 'value': 80}, {'Nutrition_type': 'Fat', 'value': 0.0}, {'Nutrition_type': 'Carb', 'value': 18}, {'Nutrition_type': 'Fiber', 'value': 1}, {'Nutrition_type': 'Protein', 'value': 0}, {'Nutrition_type': 'Sodium', 'value': 10}], 'Very Berry Hibiscus Starbucks Refreshers™ Beverage': [{'Nutrition_type': 'Calories', 'value': 60}, {'Nutrition_type': 'Fat', 'value': 0.0}, {'Nutrition_type': 'Carb', 'value': 14}, {'Nutrition_type': 'Fiber', 'value': 1}, {'Nutrition_type': 'Protein', 'value': 0}, {'Nutrition_type': 'Sodium', 'value': 10}], 'Evolution Fresh™ Organic Ginger Limeade': [{'Nutrition_type': 'Calories', 'value': 110}, {'Nutrition_type': 'Fat', 'value': 0.0}, {'Nutrition_type': 'Carb', 'value': 28}, {'Nutrition_type': 'Fiber', 'value': 0}, {'Nutrition_type': 'Protein', 'value': 0}, {'Nutrition_type': 'Sodium', 'value': 5}], 'Iced Coffee': [{'Nutrition_type': 'Calories', 'value': 5}, {'Nutrition_type': 'Fat', 'value': 0.0}, {'Nutrition_type': 'Carb', 'value': 0}, {'Nutrition_type': 'Fiber', 'value': 0}, {'Nutrition_type': 'Protein', 'value': 0}, {'Nutrition_type': 'Sodium', 'value': 5}], 'Iced Espresso Classics - Vanilla Latte': [{'Nutrition_type': 'Calories', 'value': 130}, {'Nutrition_type': 'Fat', 'value': 2.5}, {'Nutrition_type': 'Carb', 'value': 21}, {'Nutrition_type': 'Fiber', 'value': 0}, {'Nutrition_type': 'Protein', 'value': 5}, {'Nutrition_type': 'Sodium', 'value': 65}], 'Iced Espresso Classics - Caffe Mocha': [{'Nutrition_type': 'Calories', 'value': 140}, {'Nutrition_type': 'Fat', 'value': 2.5}, {'Nutrition_type': 'Carb', 'value': 23}, {'Nutrition_type': 'Fiber', 'value': 0}, {'Nutrition_type': 'Protein', 'value': 5}, {'Nutrition_type': 'Sodium', 'value': 90}], 'Iced Espresso Classics - Caramel Macchiato': [{'Nutrition_type': 'Calories', 'value': 130}, {'Nutrition_type': 'Fat', 'value': 2.5}, {'Nutrition_type': 'Carb', 'value': 21}, {'Nutrition_type': 'Fiber', 'value': 0}, {'Nutrition_type': 'Protein', 'value': 5}, {'Nutrition_type': 'Sodium', 'value': 65}], 'Shaken Sweet Tea': [{'Nutrition_type': 'Calories', 'value': 80}, {'Nutrition_type': 'Fat', 'value': 0.0}, {'Nutrition_type': 'Carb', 'value': 19}, {'Nutrition_type': 'Fiber', 'value': 0}, {'Nutrition_type': 'Protein', 'value': 0}, {'Nutrition_type': 'Sodium', 'value': 10}], 'Tazo® Bottled Berry Blossom White': [{'Nutrition_type': 'Calories', 'value': 60}, {'Nutrition_type': 'Fat', 'value': 0.0}, {'Nutrition_type': 'Carb', 'value': 15}, {'Nutrition_type': 'Fiber', 'value': 0}, {'Nutrition_type': 'Protein', 'value': 0}, {'Nutrition_type': 'Sodium', 'value': 10}], 'Tazo® Bottled Black Mango': [{'Nutrition_type': 'Calories', 'value': 150}, {'Nutrition_type': 'Fat', 'value': 0.0}, {'Nutrition_type': 'Carb', 'value': 38}, {'Nutrition_type': 'Fiber', 'value': 0}, {'Nutrition_type': 'Protein', 'value': 0}, {'Nutrition_type': 'Sodium', 'value': 15}], 'Tazo® Bottled Black with Lemon': [{'Nutrition_type': 'Calories', 'value': 140}, {'Nutrition_type': 'Fat', 'value': 0.0}, {'Nutrition_type': 'Carb', 'value': 35}, {'Nutrition_type': 'Fiber', 'value': 0}, {'Nutrition_type': 'Protein', 'value': 0}, {'Nutrition_type': 'Sodium', 'value': 10}], 'Tazo® Bottled Brambleberry': [{'Nutrition_type': 'Calories', 'value': 140}, {'Nutrition_type': 'Fat', 'value': 0.0}, {'Nutrition_type': 'Carb', 'value': 35}, {'Nutrition_type': 'Fiber', 'value': 0}, {'Nutrition_type': 'Protein', 'value': 0}, {'Nutrition_type': 'Sodium', 'value': 15}], 'Tazo® Bottled Giant Peach': [{'Nutrition_type': 'Calories', 'value': 150}, {'Nutrition_type': 'Fat', 'value': 0.0}, {'Nutrition_type': 'Carb', 'value': 37}, {'Nutrition_type': 'Fiber', 'value': 0}, {'Nutrition_type': 'Protein', 'value': 0}, {'Nutrition_type': 'Sodium', 'value': 15}], 'Tazo® Bottled Iced Passion': [{'Nutrition_type': 'Calories', 'value': 70}, {'Nutrition_type': 'Fat', 'value': 0.0}, {'Nutrition_type': 'Carb', 'value': 17}, {'Nutrition_type': 'Fiber', 'value': 0}, {'Nutrition_type': 'Protein', 'value': 0}, {'Nutrition_type': 'Sodium', 'value': 10}], 'Tazo® Bottled Lemon Ginger': [{'Nutrition_type': 'Calories', 'value': 120}, {'Nutrition_type': 'Fat', 'value': 0.0}, {'Nutrition_type': 'Carb', 'value': 31}, {'Nutrition_type': 'Fiber', 'value': 0}, {'Nutrition_type': 'Protein', 'value': 0}, {'Nutrition_type': 'Sodium', 'value': 10}], 'Tazo® Bottled Organic Black Lemonade': [{'Nutrition_type': 'Calories', 'value': 140}, {'Nutrition_type': 'Fat', 'value': 0.0}, {'Nutrition_type': 'Carb', 'value': 35}, {'Nutrition_type': 'Fiber', 'value': 0}, {'Nutrition_type': 'Protein', 'value': 0}, {'Nutrition_type': 'Sodium', 'value': 10}], 'Tazo® Bottled Organic Iced Black Tea': [{'Nutrition_type': 'Calories', 'value': 60}, {'Nutrition_type': 'Fat', 'value': 0.0}, {'Nutrition_type': 'Carb', 'value': 15}, {'Nutrition_type': 'Fiber', 'value': 0}, {'Nutrition_type': 'Protein', 'value': 0}, {'Nutrition_type': 'Sodium', 'value': 10}], 'Tazo® Bottled Organic Iced Green Tea': [{'Nutrition_type': 'Calories', 'value': 120}, {'Nutrition_type': 'Fat', 'value': 0.0}, {'Nutrition_type': 'Carb', 'value': 31}, {'Nutrition_type': 'Fiber', 'value': 0}, {'Nutrition_type': 'Protein', 'value': 0}, {'Nutrition_type': 'Sodium', 'value': 10}], 'Tazo® Bottled Plum Pomegranate': [{'Nutrition_type': 'Calories', 'value': 140}, {'Nutrition_type': 'Fat', 'value': 0.0}, {'Nutrition_type': 'Carb', 'value': 35}, {'Nutrition_type': 'Fiber', 'value': 0}, {'Nutrition_type': 'Protein', 'value': 0}, {'Nutrition_type': 'Sodium', 'value': 10}], 'Tazo® Bottled Tazoberry': [{'Nutrition_type': 'Calories', 'value': 150}, {'Nutrition_type': 'Fat', 'value': 0.0}, {'Nutrition_type': 'Carb', 'value': 38}, {'Nutrition_type': 'Fiber', 'value': 0}, {'Nutrition_type': 'Protein', 'value': 0}, {'Nutrition_type': 'Sodium', 'value': 15}], 'Tazo® Bottled White Cranberry': [{'Nutrition_type': 'Calories', 'value': 140}, {'Nutrition_type': 'Fat', 'value': 0.0}, {'Nutrition_type': 'Carb', 'value': 35}, {'Nutrition_type': 'Fiber', 'value': 0}, {'Nutrition_type': 'Protein', 'value': 0}, {'Nutrition_type': 'Sodium', 'value': 10}], 'Teavana® Shaken Iced Black Tea': [{'Nutrition_type': 'Calories', 'value': 30}, {'Nutrition_type': 'Fat', 'value': 0.0}, {'Nutrition_type': 'Carb', 'value': 8}, {'Nutrition_type': 'Fiber', 'value': 0}, {'Nutrition_type': 'Protein', 'value': 0}, {'Nutrition_type': 'Sodium', 'value': 5}], 'Teavana® Shaken Iced Black Tea Lemonade': [{'Nutrition_type': 'Calories', 'value': 70}, {'Nutrition_type': 'Fat', 'value': 0.0}, {'Nutrition_type': 'Carb', 'value': 17}, {'Nutrition_type': 'Fiber', 'value': 0}, {'Nutrition_type': 'Protein', 'value': 0}, {'Nutrition_type': 'Sodium', 'value': 0}], 'Teavana® Shaken Iced Green Tea': [{'Nutrition_type': 'Calories', 'value': 30}, {'Nutrition_type': 'Fat', 'value': 0.0}, {'Nutrition_type': 'Carb', 'value': 8}, {'Nutrition_type': 'Fiber', 'value': 0}, {'Nutrition_type': 'Protein', 'value': 0}, {'Nutrition_type': 'Sodium', 'value': 5}], 'Teavana® Shaken Iced Green Tea Lemonade': [{'Nutrition_type': 'Calories', 'value': 70}, {'Nutrition_type': 'Fat', 'value': 0.0}, {'Nutrition_type': 'Carb', 'value': 17}, {'Nutrition_type': 'Fiber', 'value': 0}, {'Nutrition_type': 'Protein', 'value': 0}, {'Nutrition_type': 'Sodium', 'value': 5}], 'Teavana® Shaken Iced Passion Tango™ Tea': [{'Nutrition_type': 'Calories', 'value': 30}, {'Nutrition_type': 'Fat', 'value': 0.0}, {'Nutrition_type': 'Carb', 'value': 8}, {'Nutrition_type': 'Fiber', 'value': 0}, {'Nutrition_type': 'Protein', 'value': 0}, {'Nutrition_type': 'Sodium', 'value': 5}], 'Teavana® Shaken Iced Passion Tango™ Tea Lemonade': [{'Nutrition_type': 'Calories', 'value': 90}, {'Nutrition_type': 'Fat', 'value': 0.0}, {'Nutrition_type': 'Carb', 'value': 24}, {'Nutrition_type': 'Fiber', 'value': 0}, {'Nutrition_type': 'Protein', 'value': 0}, {'Nutrition_type': 'Sodium', 'value': 0}], 'Teavana® Shaken Iced Peach Green Tea': [{'Nutrition_type': 'Calories', 'value': 60}, {'Nutrition_type': 'Fat', 'value': 0.0}, {'Nutrition_type': 'Carb', 'value': 15}, {'Nutrition_type': 'Fiber', 'value': 0}, {'Nutrition_type': 'Protein', 'value': 0}, {'Nutrition_type': 'Sodium', 'value': 0}], 'Starbucks Refreshers™ Raspberry Pomegranate': [{'Nutrition_type': 'Calories', 'value': 90}, {'Nutrition_type': 'Fat', 'value': 0.0}, {'Nutrition_type': 'Carb', 'value': 27}, {'Nutrition_type': 'Fiber', 'value': 0}, {'Nutrition_type': 'Protein', 'value': 0}, {'Nutrition_type': 'Sodium', 'value': 0}], 'Starbucks Refreshers™ Strawberry Lemonade': [{'Nutrition_type': 'Calories', 'value': 90}, {'Nutrition_type': 'Fat', 'value': 0.0}, {'Nutrition_type': 'Carb', 'value': 27}, {'Nutrition_type': 'Fiber', 'value': 0}, {'Nutrition_type': 'Protein', 'value': 0}, {'Nutrition_type': 'Sodium', 'value': 0}], 'Starbucks® Doubleshot Protein Dark Chocolate': [{'Nutrition_type': 'Calories', 'value': 210}, {'Nutrition_type': 'Fat', 'value': 2.5}, {'Nutrition_type': 'Carb', 'value': 33}, {'Nutrition_type': 'Fiber', 'value': 2}, {'Nutrition_type': 'Protein', 'value': 20}, {'Nutrition_type': 'Sodium', 'value': 115}], 'Starbucks® Doubleshot Protein Vanilla': [{'Nutrition_type': 'Calories', 'value': 200}, {'Nutrition_type': 'Fat', 'value': 2.5}, {'Nutrition_type': 'Carb', 'value': 34}, {'Nutrition_type': 'Fiber', 'value': 2}, {'Nutrition_type': 'Protein', 'value': 20}, {'Nutrition_type': 'Sodium', 'value': 120}], 'Starbucks® Iced Coffee Caramel': [{'Nutrition_type': 'Calories', 'value': 60}, {'Nutrition_type': 'Fat', 'value': 0.0}, {'Nutrition_type': 'Carb', 'value': 13}, {'Nutrition_type': 'Fiber', 'value': 0}, {'Nutrition_type': 'Protein', 'value': 1}, {'Nutrition_type': 'Sodium', 'value': 0}], 'Starbucks® Iced Coffee Light Sweetened': [{'Nutrition_type': 'Calories', 'value': 50}, {'Nutrition_type': 'Fat', 'value': 0.0}, {'Nutrition_type': 'Carb', 'value': 11}, {'Nutrition_type': 'Fiber', 'value': 0}, {'Nutrition_type': 'Protein', 'value': 1}, {'Nutrition_type': 'Sodium', 'value': 0}], 'Starbucks® Iced Coffee Unsweetened': [{'Nutrition_type': 'Calories', 'value': 10}, {'Nutrition_type': 'Fat', 'value': 0.0}, {'Nutrition_type': 'Carb', 'value': 2}, {'Nutrition_type': 'Fiber', 'value': 0}, {'Nutrition_type': 'Protein', 'value': 1}, {'Nutrition_type': 'Sodium', 'value': 0}], 'Blonde Roast': [{'Nutrition_type': 'Calories', 'value': 5}, {'Nutrition_type': 'Fat', 'value': 0.0}, {'Nutrition_type': 'Carb', 'value': 0}, {'Nutrition_type': 'Fiber', 'value': 0}, {'Nutrition_type': 'Protein', 'value': 1}, {'Nutrition_type': 'Sodium', 'value': 10}], 'Clover® Brewed Coffee': [{'Nutrition_type': 'Calories', 'value': 10}, {'Nutrition_type': 'Fat', 'value': 0.0}, {'Nutrition_type': 'Carb', 'value': 0}, {'Nutrition_type': 'Fiber', 'value': 0}, {'Nutrition_type': 'Protein', 'value': 1}, {'Nutrition_type': 'Sodium', 'value': 10}], 'Decaf Pike Place® Roast': [{'Nutrition_type': 'Calories', 'value': 5}, {'Nutrition_type': 'Fat', 'value': 0.0}, {'Nutrition_type': 'Carb', 'value': 0}, {'Nutrition_type': 'Fiber', 'value': 0}, {'Nutrition_type': 'Protein', 'value': 1}, {'Nutrition_type': 'Sodium', 'value': 10}], 'Featured Dark Roast': [{'Nutrition_type': 'Calories', 'value': 5}, {'Nutrition_type': 'Fat', 'value': 0.0}, {'Nutrition_type': 'Carb', 'value': 0}, {'Nutrition_type': 'Fiber', 'value': 0}, {'Nutrition_type': 'Protein', 'value': 1}, {'Nutrition_type': 'Sodium', 'value': 10}], 'Nariño 70 Cold Brew': [{'Nutrition_type': 'Calories', 'value': 5}, {'Nutrition_type': 'Fat', 'value': 0.0}, {'Nutrition_type': 'Carb', 'value': 0}, {'Nutrition_type': 'Fiber', 'value': 0}, {'Nutrition_type': 'Protein', 'value': 0}, {'Nutrition_type': 'Sodium', 'value': 15}], 'Nariño 70 Cold Brew with Milk': [{'Nutrition_type': 'Calories', 'value': 0}, {'Nutrition_type': 'Fat', 'value': 0.0}, {'Nutrition_type': 'Carb', 'value': 0}, {'Nutrition_type': 'Fiber', 'value': 0}, {'Nutrition_type': 'Protein', 'value': 0}, {'Nutrition_type': 'Sodium', 'value': 0}], 'Nitro Cold Brew': [{'Nutrition_type': 'Calories', 'value': 5}, {'Nutrition_type': 'Fat', 'value': 0.0}, {'Nutrition_type': 'Carb', 'value': 0}, {'Nutrition_type': 'Fiber', 'value': 0}, {'Nutrition_type': 'Protein', 'value': 0}, {'Nutrition_type': 'Sodium', 'value': 10}], 'Nitro Cold Brew with Sweet Cream': [{'Nutrition_type': 'Calories', 'value': 70}, {'Nutrition_type': 'Fat', 'value': 5.0}, {'Nutrition_type': 'Carb', 'value': 5}, {'Nutrition_type': 'Fiber', 'value': 0}, {'Nutrition_type': 'Protein', 'value': 1}, {'Nutrition_type': 'Sodium', 'value': 20}], 'Pike Place® Roast': [{'Nutrition_type': 'Calories', 'value': 5}, {'Nutrition_type': 'Fat', 'value': 0.0}, {'Nutrition_type': 'Carb', 'value': 0}, {'Nutrition_type': 'Fiber', 'value': 0}, {'Nutrition_type': 'Protein', 'value': 1}, {'Nutrition_type': 'Sodium', 'value': 10}], 'Vanilla Sweet Cream Cold Brew': [{'Nutrition_type': 'Calories', 'value': 110}, {'Nutrition_type': 'Fat', 'value': 6.0}, {'Nutrition_type': 'Carb', 'value': 14}, {'Nutrition_type': 'Fiber', 'value': 0}, {'Nutrition_type': 'Protein', 'value': 1}, {'Nutrition_type': 'Sodium', 'value': 25}], 'Hot Chocolate': [{'Nutrition_type': 'Calories', 'value': 320}, {'Nutrition_type': 'Fat', 'value': 9.0}, {'Nutrition_type': 'Carb', 'value': 47}, {'Nutrition_type': 'Fiber', 'value': 4}, {'Nutrition_type': 'Protein', 'value': 14}, {'Nutrition_type': 'Sodium', 'value': 160}], 'Starbucks® Signature Hot Chocolate': [{'Nutrition_type': 'Calories', 'value': 430}, {'Nutrition_type': 'Fat', 'value': 26.0}, {'Nutrition_type': 'Carb', 'value': 45}, {'Nutrition_type': 'Fiber', 'value': 5}, {'Nutrition_type': 'Protein', 'value': 12}, {'Nutrition_type': 'Sodium', 'value': 115}], 'Caffè Latte': [{'Nutrition_type': 'Calories', 'value': 190}, {'Nutrition_type': 'Fat', 'value': 7.0}, {'Nutrition_type': 'Carb', 'value': 19}, {'Nutrition_type': 'Fiber', 'value': 0}, {'Nutrition_type': 'Protein', 'value': 13}, {'Nutrition_type': 'Sodium', 'value': 170}], 'Caffè Mocha': [{'Nutrition_type': 'Calories', 'value': 290}, {'Nutrition_type': 'Fat', 'value': 8.0}, {'Nutrition_type': 'Carb', 'value': 42}, {'Nutrition_type': 'Fiber', 'value': 4}, {'Nutrition_type': 'Protein', 'value': 13}, {'Nutrition_type': 'Sodium', 'value': 140}], 'Cappuccino': [{'Nutrition_type': 'Calories', 'value': 120}, {'Nutrition_type': 'Fat', 'value': 4.0}, {'Nutrition_type': 'Carb', 'value': 12}, {'Nutrition_type': 'Fiber', 'value': 0}, {'Nutrition_type': 'Protein', 'value': 8}, {'Nutrition_type': 'Sodium', 'value': 100}], 'Caramel Macchiato': [{'Nutrition_type': 'Calories', 'value': 250}, {'Nutrition_type': 'Fat', 'value': 7.0}, {'Nutrition_type': 'Carb', 'value': 35}, {'Nutrition_type': 'Fiber', 'value': 0}, {'Nutrition_type': 'Protein', 'value': 10}, {'Nutrition_type': 'Sodium', 'value': 150}], 'Cinnamon Dolce Latte': [{'Nutrition_type': 'Calories', 'value': 260}, {'Nutrition_type': 'Fat', 'value': 6.0}, {'Nutrition_type': 'Carb', 'value': 40}, {'Nutrition_type': 'Fiber', 'value': 0}, {'Nutrition_type': 'Protein', 'value': 11}, {'Nutrition_type': 'Sodium', 'value': 150}], 'Coconutmilk Mocha Macchiato': [{'Nutrition_type': 'Calories', 'value': 250}, {'Nutrition_type': 'Fat', 'value': 9.0}, {'Nutrition_type': 'Carb', 'value': 32}, {'Nutrition_type': 'Fiber', 'value': 0}, {'Nutrition_type': 'Protein', 'value': 12}, {'Nutrition_type': 'Sodium', 'value': 180}], 'Flat White': [{'Nutrition_type': 'Calories', 'value': 180}, {'Nutrition_type': 'Fat', 'value': 7.0}, {'Nutrition_type': 'Carb', 'value': 18}, {'Nutrition_type': 'Fiber', 'value': 0}, {'Nutrition_type': 'Protein', 'value': 12}, {'Nutrition_type': 'Sodium', 'value': 160}], 'Iced Caffè Latte': [{'Nutrition_type': 'Calories', 'value': 130}, {'Nutrition_type': 'Fat', 'value': 4.5}, {'Nutrition_type': 'Carb', 'value': 13}, {'Nutrition_type': 'Fiber', 'value': 0}, {'Nutrition_type': 'Protein', 'value': 8}, {'Nutrition_type': 'Sodium', 'value': 115}], 'Iced Caffè Mocha': [{'Nutrition_type': 'Calories', 'value': 230}, {'Nutrition_type': 'Fat', 'value': 6.0}, {'Nutrition_type': 'Carb', 'value': 36}, {'Nutrition_type': 'Fiber', 'value': 4}, {'Nutrition_type': 'Protein', 'value': 9}, {'Nutrition_type': 'Sodium', 'value': 90}], 'Iced Caramel Macchiato': [{'Nutrition_type': 'Calories', 'value': 250}, {'Nutrition_type': 'Fat', 'value': 7.0}, {'Nutrition_type': 'Carb', 'value': 37}, {'Nutrition_type': 'Fiber', 'value': 0}, {'Nutrition_type': 'Protein', 'value': 10}, {'Nutrition_type': 'Sodium', 'value': 150}], 'Iced Cinnamon Dolce Latte': [{'Nutrition_type': 'Calories', 'value': 200}, {'Nutrition_type': 'Fat', 'value': 4.0}, {'Nutrition_type': 'Carb', 'value': 34}, {'Nutrition_type': 'Fiber', 'value': 0}, {'Nutrition_type': 'Protein', 'value': 7}, {'Nutrition_type': 'Sodium', 'value': 95}], 'Iced Coconutmilk Mocha Macchiato': [{'Nutrition_type': 'Calories', 'value': 260}, {'Nutrition_type': 'Fat', 'value': 9.0}, {'Nutrition_type': 'Carb', 'value': 34}, {'Nutrition_type': 'Fiber', 'value': 0}, {'Nutrition_type': 'Protein', 'value': 11}, {'Nutrition_type': 'Sodium', 'value': 180}], 'Iced Vanilla Latte': [{'Nutrition_type': 'Calories', 'value': 190}, {'Nutrition_type': 'Fat', 'value': 4.0}, {'Nutrition_type': 'Carb', 'value': 30}, {'Nutrition_type': 'Fiber', 'value': 0}, {'Nutrition_type': 'Protein', 'value': 7}, {'Nutrition_type': 'Sodium', 'value': 100}], 'Iced White Chocolate Mocha': [{'Nutrition_type': 'Calories', 'value': 300}, {'Nutrition_type': 'Fat', 'value': 8.0}, {'Nutrition_type': 'Carb', 'value': 47}, {'Nutrition_type': 'Fiber', 'value': 0}, {'Nutrition_type': 'Protein', 'value': 10}, {'Nutrition_type': 'Sodium', 'value': 190}], 'Latte Macchiato': [{'Nutrition_type': 'Calories', 'value': 190}, {'Nutrition_type': 'Fat', 'value': 7.0}, {'Nutrition_type': 'Carb', 'value': 19}, {'Nutrition_type': 'Fiber', 'value': 0}, {'Nutrition_type': 'Protein', 'value': 12}, {'Nutrition_type': 'Sodium', 'value': 160}], 'Starbucks Doubleshot® on Ice Beverage': [{'Nutrition_type': 'Calories', 'value': 45}, {'Nutrition_type': 'Fat', 'value': 1.0}, {'Nutrition_type': 'Carb', 'value': 5}, {'Nutrition_type': 'Fiber', 'value': 0}, {'Nutrition_type': 'Protein', 'value': 3}, {'Nutrition_type': 'Sodium', 'value': 40}], 'Vanilla Latte': [{'Nutrition_type': 'Calories', 'value': 250}, {'Nutrition_type': 'Fat', 'value': 6.0}, {'Nutrition_type': 'Carb', 'value': 37}, {'Nutrition_type': 'Fiber', 'value': 0}, {'Nutrition_type': 'Protein', 'value': 12}, {'Nutrition_type': 'Sodium', 'value': 150}], 'White Chocolate Mocha': [{'Nutrition_type': 'Calories', 'value': 360}, {'Nutrition_type': 'Fat', 'value': 11.0}, {'Nutrition_type': 'Carb', 'value': 53}, {'Nutrition_type': 'Fiber', 'value': 0}, {'Nutrition_type': 'Protein', 'value': 14}, {'Nutrition_type': 'Sodium', 'value': 240}], 'Cinnamon Dolce Frappuccino® Blended Coffee': [{'Nutrition_type': 'Calories', 'value': 350}, {'Nutrition_type': 'Fat', 'value': 4.5}, {'Nutrition_type': 'Carb', 'value': 64}, {'Nutrition_type': 'Fiber', 'value': 0}, {'Nutrition_type': 'Protein', 'value': 15}, {'Nutrition_type': 'Sodium', 'value': 0}], 'Coffee Light Frappuccino® Blended Coffee': [{'Nutrition_type': 'Calories', 'value': 110}, {'Nutrition_type': 'Fat', 'value': 0.0}, {'Nutrition_type': 'Carb', 'value': 24}, {'Nutrition_type': 'Fiber', 'value': 0}, {'Nutrition_type': 'Protein', 'value': 3}, {'Nutrition_type': 'Sodium', 'value': 200}], 'Mocha Frappuccino® Blended Coffee': [{'Nutrition_type': 'Calories', 'value': 280}, {'Nutrition_type': 'Fat', 'value': 2.5}, {'Nutrition_type': 'Carb', 'value': 60}, {'Nutrition_type': 'Fiber', 'value': 2}, {'Nutrition_type': 'Protein', 'value': 4}, {'Nutrition_type': 'Sodium', 'value': 220}], 'Mocha Light Frappuccino® Blended Coffee': [{'Nutrition_type': 'Calories', 'value': 140}, {'Nutrition_type': 'Fat', 'value': 0.5}, {'Nutrition_type': 'Carb', 'value': 28}, {'Nutrition_type': 'Fiber', 'value': 1}, {'Nutrition_type': 'Protein', 'value': 4}, {'Nutrition_type': 'Sodium', 'value': 180}], 'Cinnamon Dolce Crème': [{'Nutrition_type': 'Calories', 'value': 200}, {'Nutrition_type': 'Fat', 'value': 6.0}, {'Nutrition_type': 'Carb', 'value': 28}, {'Nutrition_type': 'Fiber', 'value': 0}, {'Nutrition_type': 'Protein', 'value': 10}, {'Nutrition_type': 'Sodium', 'value': 135}], 'Vanilla Crème': [{'Nutrition_type': 'Calories', 'value': 200}, {'Nutrition_type': 'Fat', 'value': 6.0}, {'Nutrition_type': 'Carb', 'value': 28}, {'Nutrition_type': 'Fiber', 'value': 0}, {'Nutrition_type': 'Protein', 'value': 10}, {'Nutrition_type': 'Sodium', 'value': 135}], 'Chocolate Smoothie': [{'Nutrition_type': 'Calories', 'value': 320}, {'Nutrition_type': 'Fat', 'value': 5.0}, {'Nutrition_type': 'Carb', 'value': 53}, {'Nutrition_type': 'Fiber', 'value': 8}, {'Nutrition_type': 'Protein', 'value': 20}, {'Nutrition_type': 'Sodium', 'value': 170}], 'Strawberry Smoothie': [{'Nutrition_type': 'Calories', 'value': 300}, {'Nutrition_type': 'Fat', 'value': 2.0}, {'Nutrition_type': 'Carb', 'value': 60}, {'Nutrition_type': 'Fiber', 'value': 7}, {'Nutrition_type': 'Protein', 'value': 16}, {'Nutrition_type': 'Sodium', 'value': 130}]}"
   ]
  },
  {
   "cell_type": "code",
   "execution_count": 16,
   "id": "8369e3c5",
   "metadata": {},
   "outputs": [],
   "source": [
    "# A3.1: The nested data structure of the object starbucks_drinks_nutrition\n",
    "# Data structure: \n",
    "# starbucks_drinks_nutrition is a dictionary,  specific structure is listed below: \n",
    "starbucks_drinks_nutrition_structure = {\n",
    "    'Drink Name 1': [\n",
    "        {'Nutrition_type': 'Nutrition_type_name', 'value': 0.0},\n",
    "        {'Nutrition_type': 'Nutrition_type_name', 'value': 0.0},\n",
    "        # ... other nutrition info ...\n",
    "    ],\n",
    "    # ... other drinks ...\n",
    "}\n",
    "\n"
   ]
  },
  {
   "cell_type": "markdown",
   "id": "e92ff30e",
   "metadata": {},
   "source": [
    "## A3.1 ##\n",
    "starbucks_drinks_nutrition, is a dictionary where each key is a string representing the name of a Starbucks drink, and each value is a list of dictionaries. Each dictionary within the list contains two key-value pairs: 'Nutrition_type' and 'value', which represent the type of nutrition fact (e.g., Calories, Fat, Carb, etc.) and its corresponding value."
   ]
  },
  {
   "cell_type": "code",
   "execution_count": 17,
   "id": "dbc0b501",
   "metadata": {},
   "outputs": [
    {
     "name": "stdout",
     "output_type": "stream",
     "text": [
      "White Chocolate Mocha: 53g of carbohydrates\n",
      "Cinnamon Dolce Frappuccino® Blended Coffee: 64g of carbohydrates\n",
      "Mocha Frappuccino® Blended Coffee: 60g of carbohydrates\n",
      "Chocolate Smoothie: 53g of carbohydrates\n",
      "Strawberry Smoothie: 60g of carbohydrates\n"
     ]
    }
   ],
   "source": [
    "# A3.2: print the name and carb content of all drinks that have a carb content of more than 50 units\n",
    "high_carb = []\n",
    "for drink, nutrition in starbucks_drinks_nutrition.items(): \n",
    "    for type_nutrition in nutrition: \n",
    "        if type_nutrition['Nutrition_type'] == 'Carb' and type_nutrition['value'] > 50:\n",
    "            high_carb.append((drink, type_nutrition['value'])) \n",
    "\n",
    "\n",
    "for drink, carb in high_carb:\n",
    "    print(f\"{drink}: {carb}g of carbohydrates\")"
   ]
  },
  {
   "cell_type": "markdown",
   "id": "b7cb1a65",
   "metadata": {},
   "source": [
    "## A3.2 ##\n",
    "\n",
    "**White Chocolate Mocha**: 53g of carbohydrates\n",
    "\n",
    "**Cinnamon Dolce Frappuccino® Blended Coffee**: 64g of carbohydrates\n",
    "\n",
    "**Mocha Frappuccino® Blended Coffee**: 60g of carbohydrates\n",
    "\n",
    "**Chocolate Smoothie**: 53g of carbohydrates\n",
    "\n",
    "**Strawberry Smoothie**: 60g of carbohydrates"
   ]
  },
  {
   "cell_type": "markdown",
   "id": "0775323d",
   "metadata": {},
   "source": [
    "# A4 #"
   ]
  },
  {
   "cell_type": "code",
   "execution_count": 18,
   "id": "76d50424",
   "metadata": {},
   "outputs": [
    {
     "data": {
      "text/html": [
       "<div>\n",
       "<style scoped>\n",
       "    .dataframe tbody tr th:only-of-type {\n",
       "        vertical-align: middle;\n",
       "    }\n",
       "\n",
       "    .dataframe tbody tr th {\n",
       "        vertical-align: top;\n",
       "    }\n",
       "\n",
       "    .dataframe thead th {\n",
       "        text-align: right;\n",
       "    }\n",
       "</style>\n",
       "<table border=\"1\" class=\"dataframe\">\n",
       "  <thead>\n",
       "    <tr style=\"text-align: right;\">\n",
       "      <th></th>\n",
       "      <th>id</th>\n",
       "      <th>speaker</th>\n",
       "      <th>headline</th>\n",
       "      <th>URL</th>\n",
       "      <th>description</th>\n",
       "      <th>transcript_URL</th>\n",
       "      <th>month_filmed</th>\n",
       "      <th>year_filmed</th>\n",
       "      <th>event</th>\n",
       "      <th>duration</th>\n",
       "      <th>date_published</th>\n",
       "      <th>tags</th>\n",
       "      <th>newURL</th>\n",
       "      <th>date</th>\n",
       "      <th>views</th>\n",
       "      <th>rates</th>\n",
       "    </tr>\n",
       "  </thead>\n",
       "  <tbody>\n",
       "    <tr>\n",
       "      <th>0</th>\n",
       "      <td>7</td>\n",
       "      <td>David Pogue</td>\n",
       "      <td>Simplicity sells</td>\n",
       "      <td>http://www.ted.com/talks/view/id/7</td>\n",
       "      <td>New York Times columnist David Pogue takes aim...</td>\n",
       "      <td>http://www.ted.com/talks/view/id/7/transcript?...</td>\n",
       "      <td>2</td>\n",
       "      <td>2006</td>\n",
       "      <td>TED2006</td>\n",
       "      <td>0:21:26</td>\n",
       "      <td>6/27/06</td>\n",
       "      <td>simplicity,computers,software,interface design...</td>\n",
       "      <td>https://www.ted.com/talks/david_pogue_says_sim...</td>\n",
       "      <td>2006-06-27</td>\n",
       "      <td>1646773</td>\n",
       "      <td>[{'id': 7, 'name': 'Funny', 'count': 968}, {'i...</td>\n",
       "    </tr>\n",
       "    <tr>\n",
       "      <th>1</th>\n",
       "      <td>6</td>\n",
       "      <td>Craig Venter</td>\n",
       "      <td>Sampling the ocean's DNA</td>\n",
       "      <td>http://www.ted.com/talks/view/id/6</td>\n",
       "      <td>Genomics pioneer Craig Venter takes a break fr...</td>\n",
       "      <td>http://www.ted.com/talks/view/id/6/transcript?...</td>\n",
       "      <td>7</td>\n",
       "      <td>2005</td>\n",
       "      <td>TEDGlobal 2005</td>\n",
       "      <td>0:16:51</td>\n",
       "      <td>2004/05/07</td>\n",
       "      <td>biotech,invention,oceans,genetics,DNA,biology,...</td>\n",
       "      <td>https://www.ted.com/talks/craig_venter_on_dna_...</td>\n",
       "      <td>2004-05-07</td>\n",
       "      <td>562625</td>\n",
       "      <td>[{'id': 3, 'name': 'Courageous', 'count': 21},...</td>\n",
       "    </tr>\n",
       "    <tr>\n",
       "      <th>2</th>\n",
       "      <td>4</td>\n",
       "      <td>Burt Rutan</td>\n",
       "      <td>The real future of space exploration</td>\n",
       "      <td>http://www.ted.com/talks/view/id/4</td>\n",
       "      <td>In this passionate talk, legendary spacecraft ...</td>\n",
       "      <td>http://www.ted.com/talks/view/id/4/transcript?...</td>\n",
       "      <td>2</td>\n",
       "      <td>2006</td>\n",
       "      <td>TED2006</td>\n",
       "      <td>0:19:37</td>\n",
       "      <td>10/25/06</td>\n",
       "      <td>aircraft,flight,industrial design,NASA,rocket ...</td>\n",
       "      <td>https://www.ted.com/talks/burt_rutan_sees_the_...</td>\n",
       "      <td>2006-10-25</td>\n",
       "      <td>2046869</td>\n",
       "      <td>[{'id': 3, 'name': 'Courageous', 'count': 169}...</td>\n",
       "    </tr>\n",
       "    <tr>\n",
       "      <th>3</th>\n",
       "      <td>3</td>\n",
       "      <td>Ashraf Ghani</td>\n",
       "      <td>How to rebuild a broken state</td>\n",
       "      <td>http://www.ted.com/talks/view/id/3</td>\n",
       "      <td>Ashraf Ghani's passionate and powerful 10-minu...</td>\n",
       "      <td>http://www.ted.com/talks/view/id/3/transcript?...</td>\n",
       "      <td>7</td>\n",
       "      <td>2005</td>\n",
       "      <td>TEDGlobal 2005</td>\n",
       "      <td>0:18:45</td>\n",
       "      <td>10/18/06</td>\n",
       "      <td>corruption,poverty,economics,investment,milita...</td>\n",
       "      <td>https://www.ted.com/talks/ashraf_ghani_on_rebu...</td>\n",
       "      <td>2006-10-18</td>\n",
       "      <td>814554</td>\n",
       "      <td>[{'id': 3, 'name': 'Courageous', 'count': 140}...</td>\n",
       "    </tr>\n",
       "    <tr>\n",
       "      <th>4</th>\n",
       "      <td>5</td>\n",
       "      <td>Chris Bangle</td>\n",
       "      <td>Great cars are great art</td>\n",
       "      <td>http://www.ted.com/talks/view/id/5</td>\n",
       "      <td>American designer Chris Bangle explains his ph...</td>\n",
       "      <td>http://www.ted.com/talks/view/id/5/transcript?...</td>\n",
       "      <td>2</td>\n",
       "      <td>2002</td>\n",
       "      <td>TED2002</td>\n",
       "      <td>0:20:04</td>\n",
       "      <td>2004/05/07</td>\n",
       "      <td>cars,industrial design,transportation,inventio...</td>\n",
       "      <td>https://www.ted.com/talks/chris_bangle_says_gr...</td>\n",
       "      <td>2004-05-07</td>\n",
       "      <td>870950</td>\n",
       "      <td>[{'id': 1, 'name': 'Beautiful', 'count': 89}, ...</td>\n",
       "    </tr>\n",
       "  </tbody>\n",
       "</table>\n",
       "</div>"
      ],
      "text/plain": [
       "   id       speaker                              headline  \\\n",
       "0   7   David Pogue                      Simplicity sells   \n",
       "1   6  Craig Venter              Sampling the ocean's DNA   \n",
       "2   4    Burt Rutan  The real future of space exploration   \n",
       "3   3  Ashraf Ghani         How to rebuild a broken state   \n",
       "4   5  Chris Bangle              Great cars are great art   \n",
       "\n",
       "                                  URL  \\\n",
       "0  http://www.ted.com/talks/view/id/7   \n",
       "1  http://www.ted.com/talks/view/id/6   \n",
       "2  http://www.ted.com/talks/view/id/4   \n",
       "3  http://www.ted.com/talks/view/id/3   \n",
       "4  http://www.ted.com/talks/view/id/5   \n",
       "\n",
       "                                         description  \\\n",
       "0  New York Times columnist David Pogue takes aim...   \n",
       "1  Genomics pioneer Craig Venter takes a break fr...   \n",
       "2  In this passionate talk, legendary spacecraft ...   \n",
       "3  Ashraf Ghani's passionate and powerful 10-minu...   \n",
       "4  American designer Chris Bangle explains his ph...   \n",
       "\n",
       "                                      transcript_URL  month_filmed  \\\n",
       "0  http://www.ted.com/talks/view/id/7/transcript?...             2   \n",
       "1  http://www.ted.com/talks/view/id/6/transcript?...             7   \n",
       "2  http://www.ted.com/talks/view/id/4/transcript?...             2   \n",
       "3  http://www.ted.com/talks/view/id/3/transcript?...             7   \n",
       "4  http://www.ted.com/talks/view/id/5/transcript?...             2   \n",
       "\n",
       "   year_filmed           event duration date_published  \\\n",
       "0         2006         TED2006  0:21:26        6/27/06   \n",
       "1         2005  TEDGlobal 2005  0:16:51     2004/05/07   \n",
       "2         2006         TED2006  0:19:37       10/25/06   \n",
       "3         2005  TEDGlobal 2005  0:18:45       10/18/06   \n",
       "4         2002         TED2002  0:20:04     2004/05/07   \n",
       "\n",
       "                                                tags  \\\n",
       "0  simplicity,computers,software,interface design...   \n",
       "1  biotech,invention,oceans,genetics,DNA,biology,...   \n",
       "2  aircraft,flight,industrial design,NASA,rocket ...   \n",
       "3  corruption,poverty,economics,investment,milita...   \n",
       "4  cars,industrial design,transportation,inventio...   \n",
       "\n",
       "                                              newURL       date    views  \\\n",
       "0  https://www.ted.com/talks/david_pogue_says_sim... 2006-06-27  1646773   \n",
       "1  https://www.ted.com/talks/craig_venter_on_dna_... 2004-05-07   562625   \n",
       "2  https://www.ted.com/talks/burt_rutan_sees_the_... 2006-10-25  2046869   \n",
       "3  https://www.ted.com/talks/ashraf_ghani_on_rebu... 2006-10-18   814554   \n",
       "4  https://www.ted.com/talks/chris_bangle_says_gr... 2004-05-07   870950   \n",
       "\n",
       "                                               rates  \n",
       "0  [{'id': 7, 'name': 'Funny', 'count': 968}, {'i...  \n",
       "1  [{'id': 3, 'name': 'Courageous', 'count': 21},...  \n",
       "2  [{'id': 3, 'name': 'Courageous', 'count': 169}...  \n",
       "3  [{'id': 3, 'name': 'Courageous', 'count': 140}...  \n",
       "4  [{'id': 1, 'name': 'Beautiful', 'count': 89}, ...  "
      ]
     },
     "execution_count": 18,
     "metadata": {},
     "output_type": "execute_result"
    }
   ],
   "source": [
    "# A4.1: load data \n",
    "import pandas as pd\n",
    "# load  external data\n",
    "data = pd.read_json(\"https://raw.githubusercontent.com/cwkenwaysun/TEDmap/master/data/TED_Talks.json\")\n",
    "data.head()"
   ]
  },
  {
   "cell_type": "markdown",
   "id": "74381e66",
   "metadata": {},
   "source": [
    "## A4.1 ##\n",
    "**Please find the above**"
   ]
  },
  {
   "cell_type": "code",
   "execution_count": 19,
   "id": "9efa6c34",
   "metadata": {},
   "outputs": [
    {
     "data": {
      "text/plain": [
       "2474"
      ]
     },
     "execution_count": 19,
     "metadata": {},
     "output_type": "execute_result"
    }
   ],
   "source": [
    "# 4.2: Find the total number of talks\n",
    "data_2006_2017 = [(data['year_filmed'] >= 2006) & (data['year_filmed'] <= 2017)]\n",
    "len(data)"
   ]
  },
  {
   "cell_type": "markdown",
   "id": "303f3b82",
   "metadata": {},
   "source": [
    "## A4.2 ##\n",
    "**There are 2474 talks in the dataset**"
   ]
  },
  {
   "cell_type": "code",
   "execution_count": 20,
   "id": "60a89038",
   "metadata": {},
   "outputs": [],
   "source": [
    "#4.3: find the most viewed talk\n",
    "max_views = data['views'].idxmax()\n",
    "pop_talk = data.loc[max_views]"
   ]
  },
  {
   "cell_type": "code",
   "execution_count": 21,
   "id": "491a5508",
   "metadata": {
    "scrolled": true
   },
   "outputs": [
    {
     "name": "stdout",
     "output_type": "stream",
     "text": [
      "A4.3: The talk with the highest number of views has the following details:\n",
      "Headline: Do schools kill creativity?\n",
      "Speaker: Ken Robinson\n",
      "Year Filmed: 2006\n"
     ]
    }
   ],
   "source": [
    "print(f\"A4.3: The talk with the highest number of views has the following details:\\n\"\n",
    "      f\"Headline: {pop_talk ['headline']}\\n\"\n",
    "      f\"Speaker: {pop_talk ['speaker']}\\n\"\n",
    "      f\"Year Filmed: {pop_talk ['year_filmed']}\")"
   ]
  },
  {
   "cell_type": "markdown",
   "id": "5f907cef",
   "metadata": {},
   "source": [
    "## A4.3 ##\n",
    "**The talk with the highest number of views has the following details:**\n",
    "\n",
    "Headline: Do schools kill creativity?\n",
    "\n",
    "Speaker: Ken Robinson \n",
    "\n",
    "Year Filmed: 2006"
   ]
  },
  {
   "cell_type": "code",
   "execution_count": 170,
   "id": "2d0a4fa0",
   "metadata": {},
   "outputs": [
    {
     "name": "stdout",
     "output_type": "stream",
     "text": [
      "0\n",
      "The majority of talks have less views than average.\n"
     ]
    }
   ],
   "source": [
    "# 4.4: Compare with the average\n",
    "average_views = data['views'].mean()\n",
    "high_ave = data[data['views'] > average_views]\n",
    "low_ave = data[data['views'] < average_views]\n",
    "\n",
    "equal_view_count = sum(data['views'] == average_views)\n",
    "print(equal_view_count)\n",
    "\n",
    "if len(low_ave) > len(high_ave):\n",
    "    print(\"The majority of talks have less views than average.\")\n",
    "else:\n",
    "    print(\"The majority of talks have more views than the average.\")"
   ]
  },
  {
   "cell_type": "markdown",
   "id": "c8e0b56d",
   "metadata": {},
   "source": [
    "## A4.4 ##\n",
    "**The majority of talks have less views than average.**\n",
    "The average number of views is found using mean() function. Then, I created two DataFrames: one for talks with below-average views and one for talks with above-average views. The majority is determined by comparing the lengths of these DataFrames, and the results are printed out with justification."
   ]
  },
  {
   "cell_type": "code",
   "execution_count": 171,
   "id": "5e161c39",
   "metadata": {},
   "outputs": [
    {
     "data": {
      "text/plain": [
       "25.060630557801133"
      ]
     },
     "execution_count": 171,
     "metadata": {},
     "output_type": "execute_result"
    }
   ],
   "source": [
    "# A.4.5: 25% of the talks have more views than the average number of views for a talk?\n",
    "higher_than_ave = (len(high_ave) / len(data)) * 100\n",
    "higher_than_ave"
   ]
  },
  {
   "cell_type": "markdown",
   "id": "cd5d79c9",
   "metadata": {},
   "source": [
    "## A4.5 ##\n",
    "**Yes, more than 25% of the talks have higher views than the average.**\n",
    "I divide the length of the dataset by  the length of the high_ave DataFrame. The ratio 25.060630557801133% is greater than 25%. Therefore, at least 25% of the talks have more views than the average number of views for a talk"
   ]
  },
  {
   "cell_type": "code",
   "execution_count": 172,
   "id": "6be72c53",
   "metadata": {},
   "outputs": [
    {
     "name": "stdout",
     "output_type": "stream",
     "text": [
      "   id       speaker                              headline  \\\n",
      "0   7   David Pogue                      Simplicity sells   \n",
      "1   6  Craig Venter              Sampling the ocean's DNA   \n",
      "2   4    Burt Rutan  The real future of space exploration   \n",
      "3   3  Ashraf Ghani         How to rebuild a broken state   \n",
      "4   5  Chris Bangle              Great cars are great art   \n",
      "\n",
      "                                  URL  \\\n",
      "0  http://www.ted.com/talks/view/id/7   \n",
      "1  http://www.ted.com/talks/view/id/6   \n",
      "2  http://www.ted.com/talks/view/id/4   \n",
      "3  http://www.ted.com/talks/view/id/3   \n",
      "4  http://www.ted.com/talks/view/id/5   \n",
      "\n",
      "                                         description  \\\n",
      "0  New York Times columnist David Pogue takes aim...   \n",
      "1  Genomics pioneer Craig Venter takes a break fr...   \n",
      "2  In this passionate talk, legendary spacecraft ...   \n",
      "3  Ashraf Ghani's passionate and powerful 10-minu...   \n",
      "4  American designer Chris Bangle explains his ph...   \n",
      "\n",
      "                                      transcript_URL  month_filmed  \\\n",
      "0  http://www.ted.com/talks/view/id/7/transcript?...             2   \n",
      "1  http://www.ted.com/talks/view/id/6/transcript?...             7   \n",
      "2  http://www.ted.com/talks/view/id/4/transcript?...             2   \n",
      "3  http://www.ted.com/talks/view/id/3/transcript?...             7   \n",
      "4  http://www.ted.com/talks/view/id/5/transcript?...             2   \n",
      "\n",
      "   year_filmed           event duration  ... Unconvincing Longwinded  \\\n",
      "0         2006         TED2006  0:21:26  ...        104.0       78.0   \n",
      "1         2005  TEDGlobal 2005  0:16:51  ...          3.0        8.0   \n",
      "2         2006         TED2006  0:19:37  ...         77.0       70.0   \n",
      "3         2005  TEDGlobal 2005  0:18:45  ...         35.0       21.0   \n",
      "4         2002         TED2002  0:20:04  ...         81.0      100.0   \n",
      "\n",
      "  Informative Inspiring  Fascinating Confusing     OK  Persuasive  \\\n",
      "0       399.0     230.0        166.0      27.0  146.0       230.0   \n",
      "1       199.0      73.0        163.0      23.0   10.0        23.0   \n",
      "2       337.0     501.0        247.0      23.0  115.0       202.0   \n",
      "3       218.0     114.0         44.0      25.0   51.0       112.0   \n",
      "4        88.0     163.0         76.0      32.0   64.0        28.0   \n",
      "\n",
      "   Jaw-dropping  Obnoxious  \n",
      "0          54.0      142.0  \n",
      "1          74.0        0.0  \n",
      "2          63.0       47.0  \n",
      "3          35.0       11.0  \n",
      "4           9.0       45.0  \n",
      "\n",
      "[5 rows x 30 columns]\n"
     ]
    }
   ],
   "source": [
    "# 4.6: create a new column in the dataset that contains the votes obtained by the tedtalk in that category. Print the first 5 rows of the updated dataset.\n",
    "for index, row in data.iterrows():\n",
    "    for rate_dict in row['rates']:\n",
    "        # Extracting category and votes and creating new columns\n",
    "        category = rate_dict['name']\n",
    "        votes = rate_dict['count']\n",
    "        data.loc[index, category] = votes\n",
    "\n",
    "print(data.head())"
   ]
  },
  {
   "cell_type": "markdown",
   "id": "bdacb850",
   "metadata": {},
   "source": [
    "## A4.6 ##\n",
    "**The new columns corresponding to categories in rates are created above.**"
   ]
  },
  {
   "cell_type": "code",
   "execution_count": 173,
   "id": "aede6f14",
   "metadata": {},
   "outputs": [
    {
     "data": {
      "text/plain": [
       "'I believe we evolved from aquatic apes'"
      ]
     },
     "execution_count": 173,
     "metadata": {},
     "output_type": "execute_result"
    }
   ],
   "source": [
    "# A4.7: The most confusing talk\" \n",
    "idx_max_confusing = data['Confusing'].idxmax()\n",
    "most_confusing_talk = data.loc[idx_max_confusing, 'headline']\n",
    "most_confusing_talk"
   ]
  },
  {
   "cell_type": "markdown",
   "id": "56db3168",
   "metadata": {},
   "source": [
    "## A.4.7 ## \n",
    "**The talk with the highest number of 'Confusing' votes is:I believe we evolved from aquatic apes**"
   ]
  },
  {
   "cell_type": "code",
   "execution_count": 174,
   "id": "2ca50198",
   "metadata": {},
   "outputs": [
    {
     "name": "stdout",
     "output_type": "stream",
     "text": [
      "speaker                                      Carolyn Porco\n",
      "headline                  Could a Saturn moon harbor life?\n",
      "fascinating_percentage                           43.887423\n",
      "date                                   2009-05-21 00:00:00\n",
      "Name: 443, dtype: object\n"
     ]
    }
   ],
   "source": [
    "# 4.8： Highest fascinating count \n",
    "def get_fascinating_percentage(rates):\n",
    "    total_votes = sum(rate['count'] for rate in rates)\n",
    "    fascinating_votes = next((rate['count'] for rate in rates if rate['name'] == 'Fascinating'), 0)\n",
    "    return (fascinating_votes / total_votes) * 100 if total_votes > 0 else 0\n",
    "\n",
    "data['fascinating_percentage'] = data['rates'].apply(get_fascinating_percentage)\n",
    "\n",
    "highest_fascinating_talk = data.loc[data['fascinating_percentage'].idxmax()]\n",
    "print(highest_fascinating_talk[['speaker', 'headline', 'fascinating_percentage', 'date']])"
   ]
  },
  {
   "cell_type": "markdown",
   "id": "9170c54b",
   "metadata": {},
   "source": [
    "## A4.8 ##\n",
    "The highest percentage of votes in the Fascinating category.\n",
    "\n",
    "\n",
    "**Headline: Could a Saturn moon harbor life?**\n",
    "\n",
    "**Year of the talk: 2009**"
   ]
  },
  {
   "cell_type": "markdown",
   "id": "05cfa9b2",
   "metadata": {},
   "source": [
    "# A5 # "
   ]
  },
  {
   "cell_type": "code",
   "execution_count": 175,
   "id": "50705998",
   "metadata": {},
   "outputs": [
    {
     "name": "stdout",
     "output_type": "stream",
     "text": [
      "                    Name       Location  Rank  Tuition and fees  \\\n",
      "0   Princeton University  Princeton, NJ   1.0           45320.0   \n",
      "1     Harvard University  Cambridge, MA   2.0           47074.0   \n",
      "2  University of Chicago    Chicago, IL   3.0           52491.0   \n",
      "3        Yale University  New Haven, CT   3.0           49480.0   \n",
      "4    Columbia University   New York, NY   5.0           55056.0   \n",
      "\n",
      "   Undergrad Enrollment  \n",
      "0                5402.0  \n",
      "1                6699.0  \n",
      "2                5844.0  \n",
      "3                5532.0  \n",
      "4                6102.0  \n"
     ]
    }
   ],
   "source": [
    "# 5.1: load data\n",
    "data = pd.read_csv('/Users/jinwens/Downloads/univ.txt', delimiter='\\t')\n",
    "print(data.head())"
   ]
  },
  {
   "cell_type": "markdown",
   "id": "ec9e127c",
   "metadata": {},
   "source": [
    "## A5.1 ## \n",
    "**Data is loaded above.**"
   ]
  },
  {
   "cell_type": "code",
   "execution_count": 176,
   "id": "6b4038fc",
   "metadata": {},
   "outputs": [
    {
     "name": "stdout",
     "output_type": "stream",
     "text": [
      "             Rank  Tuition and fees  Undergrad Enrollment\n",
      "count  231.000000        231.000000            231.000000\n",
      "mean   113.982684      33769.246753          14946.619048\n",
      "std     65.995518      10756.733516          10569.664095\n",
      "min      1.000000       5300.000000           1001.000000\n",
      "25%     56.000000      25693.000000           6238.500000\n",
      "50%    111.000000      31608.000000          12949.000000\n",
      "75%    171.000000      42721.000000          22145.500000\n",
      "max    220.000000      55056.000000          54513.000000\n"
     ]
    }
   ],
   "source": [
    "# 5.2: Find summary statistics of the data\n",
    "print(data.describe())"
   ]
  },
  {
   "cell_type": "markdown",
   "id": "5cd8e8ca",
   "metadata": {},
   "source": [
    "## A5.2 ## \n",
    "**Summary of the data is presented above.**"
   ]
  },
  {
   "cell_type": "code",
   "execution_count": 177,
   "id": "ef7740f8",
   "metadata": {},
   "outputs": [
    {
     "name": "stdout",
     "output_type": "stream",
     "text": [
      "There are 231 universities in the dataset.\n"
     ]
    }
   ],
   "source": [
    "# 5.3: How many universities are there in the data set?\n",
    "num_universities = data.shape[0]\n",
    "print(f'There are {num_universities} universities in the dataset.')"
   ]
  },
  {
   "cell_type": "markdown",
   "id": "0e759c10",
   "metadata": {},
   "source": [
    "## A5.3 ##\n",
    "**There are 231 universities in the dataset.**"
   ]
  },
  {
   "cell_type": "code",
   "execution_count": 178,
   "id": "19ef1243",
   "metadata": {},
   "outputs": [
    {
     "name": "stdout",
     "output_type": "stream",
     "text": [
      "The maximum tuition and fees among the bottom 25% of universities is 25673.0.\n"
     ]
    }
   ],
   "source": [
    "# A5.4: Estimate the maximum Tuition and fees among universities that are in the bottom 25% when ranked by total tuition and fees.\n",
    "bottom_25_threshold = data['Tuition and fees'].quantile(0.25)\n",
    "max_tuition_bottom_25 = data[data['Tuition and fees'] <= bottom_25_threshold]['Tuition and fees'].max()\n",
    "print(f'The maximum tuition and fees among the bottom 25% of universities is {max_tuition_bottom_25}.')"
   ]
  },
  {
   "cell_type": "markdown",
   "id": "59a73493",
   "metadata": {},
   "source": [
    "## A5.4 ##\n",
    "\n",
    "**The maximum tuition and fees among the bottom 25% of universities is 25673.0.**"
   ]
  },
  {
   "cell_type": "code",
   "execution_count": 179,
   "id": "e024a21d",
   "metadata": {
    "scrolled": true
   },
   "outputs": [
    {
     "name": "stdout",
     "output_type": "stream",
     "text": [
      "12 universities share the ranking of 220.\n"
     ]
    }
   ],
   "source": [
    "# A5.5: How many universities share the ranking of 220\n",
    "num_universities_rank_220 = data[data['Rank'] == 220].shape[0]\n",
    "print(f'{num_universities_rank_220} universities share the ranking of 220.')"
   ]
  },
  {
   "cell_type": "markdown",
   "id": "c928b4b1",
   "metadata": {},
   "source": [
    "## A5.5 ## \n",
    "**12 universities share the ranking of 220.**"
   ]
  },
  {
   "cell_type": "markdown",
   "id": "60945818",
   "metadata": {},
   "source": [
    "## A5.6 ##\n",
    "No, determining the mean \"Tuition and fees\" specifically for undergraduate students in the US from the summary statistics is not feasible. The summary statistics merely provide an average of \"Tuition and fees\" across all educational levels at universities."
   ]
  },
  {
   "cell_type": "code",
   "execution_count": 180,
   "id": "8ed160e3",
   "metadata": {},
   "outputs": [
    {
     "name": "stdout",
     "output_type": "stream",
     "text": [
      "The average Tuition and fees per undergrad student in the US is $30845.32903298868.\n"
     ]
    }
   ],
   "source": [
    "# A5.7: Find the average Tuition and fees for an undergrad student in the US.\n",
    "total_tuition_fees = (data['Tuition and fees'] * data['Undergrad Enrollment']).sum()\n",
    "total_undergrad_enrollment = data['Undergrad Enrollment'].sum()\n",
    "\n",
    "average_tuition_per_undergrad = total_tuition_fees / total_undergrad_enrollment\n",
    "\n",
    "# Display the result\n",
    "print(f'The average Tuition and fees per undergrad student in the US is ${average_tuition_per_undergrad}.')"
   ]
  },
  {
   "cell_type": "markdown",
   "id": "ecb98e6a",
   "metadata": {},
   "source": [
    "## A5.7 ##\n",
    "**The mean Tuition and fees for an undergrad student in the US is $30845.32903298868.**"
   ]
  },
  {
   "cell_type": "markdown",
   "id": "54d81655",
   "metadata": {},
   "source": [
    "# A6 #\n",
    "\n",
    "#### 1. CSV (Comma-Separated Values)\n",
    "   - **Advantage:** \n",
    "     - **Interoperability:** CSV files are universally recognized and can be opened by a wide range of software, from spreadsheet applications like Microsoft Excel to database systems. This makes it a popular choice for data exchange between different platforms.\n",
    "   \n",
    "   - **Disadvantage:** \n",
    "     - **Flat Structure:** CSV files inherently support only two-dimensional, tabular data. They cannot handle hierarchical or multi-dimensional data as efficiently as JSON. This makes them less suitable for complex data structures.\n",
    "\n",
    "#### 2. JSON (JavaScript Object Notation)\n",
    "   - **Advantage:** \n",
    "     - **Flexibility:** JSON supports hierarchical data structures, allowing for nested arrays and objects. This makes it suitable for representing complex data structures, especially in applications that require data interchange between a server and a web application.\n",
    "   \n",
    "   - **Disadvantage:** \n",
    "     - **Size:** For large datasets, JSON can be more verbose than CSV, leading to larger file sizes. This can be a concern when storage or data transmission efficiency is crucial.\n",
    "\n",
    "#### 3. TXT (Text File)\n",
    "   - **Advantage:** \n",
    "     - **Unstructured Freedom:** TXT files are free-form, allowing users to store data in any format. This can be useful for custom data storage needs or for human-readable notes and documents.\n",
    "   \n",
    "   - **Disadvantage:** \n",
    "     - **Lack of Standardization:** Since TXT files don't have a standard structure, parsing them can be challenging. Unlike CSV and JSON, which have well-defined formats, reading data from TXT files might require custom logic, especially if the structure isn't consistent.\n",
    "\n"
   ]
  }
 ],
 "metadata": {
  "kernelspec": {
   "display_name": "Python 3 (ipykernel)",
   "language": "python",
   "name": "python3"
  },
  "language_info": {
   "codemirror_mode": {
    "name": "ipython",
    "version": 3
   },
   "file_extension": ".py",
   "mimetype": "text/x-python",
   "name": "python",
   "nbconvert_exporter": "python",
   "pygments_lexer": "ipython3",
   "version": "3.11.4"
  }
 },
 "nbformat": 4,
 "nbformat_minor": 5
}
